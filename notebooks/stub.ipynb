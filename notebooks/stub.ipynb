{
 "cells": [
  {
   "cell_type": "markdown",
   "metadata": {},
   "source": [
    "# Finding STk vs. Tk sequence determinants\n",
    "\n",
    "In this example, we'll tackle a problem of MSA sequences' classification.\n",
    "\n",
    "Protein kinases, or phosphate transferases, are regulatory enzymes ubiquitous across all\n",
    "major known taxae.\n",
    "They catalyze transferring of phosphate moieties from an ATP molecule to the carboxylic\n",
    "group of an amino acid residue.\n",
    "This changes physico-chemical properties of a target protein altering it's overall\n",
    "behaviour and functionality.\n",
    "Thus, they act as molecular controllers, deeply embedded into regulating mechanisms\n",
    "governing complex cellular machinery.\n",
    "\n",
    "Over the course of evolution, along with substrate specificity, PKs developed\n",
    "a preference towards certain amino acid residues.\n",
    "The principal group of PKs that likely appeared initially were PKs transferring\n",
    "phosphate to serine and threonine residues (STk).\n",
    "Later, another group emerged, specializing towards the tyrosine residue (Tk).\n",
    "\n",
    "| ![Phosphorylation](../fig/Phosphorylation.pdf \"Phosphorylation reaction\") |\n",
    "|:--:|\n",
    "| <b> Fig. 1. Phosphorylation of Ser/Thr and Tyr. Notice the dissimilarities between these two groups </b>|\n",
    "\n",
    "What could be the sequence differences enabling such a specialization?\n",
    "Could we find them using features selection machinery?\n",
    "\n",
    "In 1994, Juswinder performed a conservation-based analysis of STk and Tk\n",
    "sequences.\n",
    "He discovered several MSA positions that, as structural evidence suggests, expliot\n",
    "physico-chemical differences (e.g., volume) between Ser/Thr and Tyr.\n",
    "(pic with their aln)\n"
   ]
  },
  {
   "cell_type": "markdown",
   "metadata": {},
   "source": [
    "## 1. Install dependencies"
   ]
  },
  {
   "cell_type": "code",
   "execution_count": 1,
   "metadata": {},
   "outputs": [],
   "source": [
    "# ! pip install lXtractor eBoruta ipywidgets xgboost optuna"
   ]
  },
  {
   "cell_type": "markdown",
   "metadata": {},
   "source": [
    "## 2. Prepare data"
   ]
  },
  {
   "cell_type": "code",
   "execution_count": 2,
   "outputs": [],
   "source": [
    "% load_ext autoreload\n",
    "% autoreload 2"
   ],
   "metadata": {
    "collapsed": false
   }
  },
  {
   "cell_type": "code",
   "execution_count": 3,
   "outputs": [],
   "source": [
    "import gzip\n",
    "from collections import Counter\n",
    "from itertools import chain\n",
    "from io import StringIO, BytesIO\n",
    "\n",
    "import pandas as pd\n",
    "from lXtractor.core.chain import ChainSequence, ChainList\n",
    "from lXtractor.ext.hmm import PyHMMer\n",
    "from lXtractor.variables.calculator import GenericCalculator\n",
    "from lXtractor.variables.sequential import PFP\n",
    "from lXtractor.variables.manager import Manager\n",
    "from lXtractor.util.io import fetch_text\n",
    "from more_itertools import consume"
   ],
   "metadata": {
    "collapsed": false
   }
  },
  {
   "cell_type": "markdown",
   "source": [
    "### 2.1 Download and parse initial sequences and profile"
   ],
   "metadata": {
    "collapsed": false
   }
  },
  {
   "cell_type": "markdown",
   "source": [
    "The link is generated from the search API.\n",
    "We are taking all reviewed proteins (Swiss-Prot database) belonging to the PK superfamily."
   ],
   "metadata": {
    "collapsed": false
   }
  },
  {
   "cell_type": "code",
   "execution_count": 4,
   "outputs": [],
   "source": [
    "LINK_UNIPROT = \"https://rest.uniprot.org/uniprotkb/stream?fields=accession%2Cid%2Csequence%2Cft_domain%2Cprotein_families&format=tsv&query=%28%28family%3A%22protein%20kinase%20superfamily%22%29%29%20AND%20%28reviewed%3Atrue%29\"\n",
    "LINK_PFAM = 'https://www.ebi.ac.uk/interpro/wwwapi//entry/pfam/PF00069?annotation=hmm'"
   ],
   "metadata": {
    "collapsed": false
   }
  },
  {
   "cell_type": "code",
   "execution_count": 5,
   "outputs": [],
   "source": [
    "df_up = pd.read_csv(StringIO(fetch_text(LINK_UNIPROT)), sep='\\t')"
   ],
   "metadata": {
    "collapsed": false
   }
  },
  {
   "cell_type": "code",
   "execution_count": 6,
   "outputs": [
    {
     "data": {
      "text/plain": "        Entry   Entry Name                                           Sequence  \\\n0  A0A075F7E9  LERK1_ORYSI  MVALLLFPMLLQLLSPTCAQTQKNITLGSTLAPQGPASSWLSPSGD...   \n1  A0A078CGE6  M3KE1_BRANA  MARQMTSSQFHKSKTLDNKYMLGDEIGKGAYGRVYIGLDLENGDFV...   \n2  A0A0B4J2F2  SIK1B_HUMAN  MVIMSEFSADPAGQGQGQQKPLRVGFYDIERTLGKGNFAVVKLARH...   \n3  A0A0K3AV08   MLK1_CAEEL  MEQASVPSYVNIPPIAKTRSTSHLAPTPEHHRSVSYEDTTTASTST...   \n4  A0A0P0VIP0  LRSK7_ORYSJ  MPPRCRRLPLLFILLLAVRPLSAAAASSIAAAPASSYRRISWASNL...   \n\n                                         Domain [FT]  \\\n0  DOMAIN 22..149; /note=\"Bulb-type lectin\"; /evi...   \n1  DOMAIN 20..274; /note=\"Protein kinase\"; /evide...   \n2  DOMAIN 27..278; /note=\"Protein kinase\"; /evide...   \n3  DOMAIN 69..130; /note=\"SH3\"; /evidence=\"ECO:00...   \n4  DOMAIN 389..661; /note=\"Protein kinase\"; /evid...   \n\n                                    Protein families  \n0  Protein kinase superfamily, Ser/Thr protein ki...  \n1  Protein kinase superfamily, Ser/Thr protein ki...  \n2  Protein kinase superfamily, CAMK Ser/Thr prote...  \n3  Protein kinase superfamily, STE Ser/Thr protei...  \n4  Leguminous lectin family; Protein kinase super...  ",
      "text/html": "<div>\n<style scoped>\n    .dataframe tbody tr th:only-of-type {\n        vertical-align: middle;\n    }\n\n    .dataframe tbody tr th {\n        vertical-align: top;\n    }\n\n    .dataframe thead th {\n        text-align: right;\n    }\n</style>\n<table border=\"1\" class=\"dataframe\">\n  <thead>\n    <tr style=\"text-align: right;\">\n      <th></th>\n      <th>Entry</th>\n      <th>Entry Name</th>\n      <th>Sequence</th>\n      <th>Domain [FT]</th>\n      <th>Protein families</th>\n    </tr>\n  </thead>\n  <tbody>\n    <tr>\n      <th>0</th>\n      <td>A0A075F7E9</td>\n      <td>LERK1_ORYSI</td>\n      <td>MVALLLFPMLLQLLSPTCAQTQKNITLGSTLAPQGPASSWLSPSGD...</td>\n      <td>DOMAIN 22..149; /note=\"Bulb-type lectin\"; /evi...</td>\n      <td>Protein kinase superfamily, Ser/Thr protein ki...</td>\n    </tr>\n    <tr>\n      <th>1</th>\n      <td>A0A078CGE6</td>\n      <td>M3KE1_BRANA</td>\n      <td>MARQMTSSQFHKSKTLDNKYMLGDEIGKGAYGRVYIGLDLENGDFV...</td>\n      <td>DOMAIN 20..274; /note=\"Protein kinase\"; /evide...</td>\n      <td>Protein kinase superfamily, Ser/Thr protein ki...</td>\n    </tr>\n    <tr>\n      <th>2</th>\n      <td>A0A0B4J2F2</td>\n      <td>SIK1B_HUMAN</td>\n      <td>MVIMSEFSADPAGQGQGQQKPLRVGFYDIERTLGKGNFAVVKLARH...</td>\n      <td>DOMAIN 27..278; /note=\"Protein kinase\"; /evide...</td>\n      <td>Protein kinase superfamily, CAMK Ser/Thr prote...</td>\n    </tr>\n    <tr>\n      <th>3</th>\n      <td>A0A0K3AV08</td>\n      <td>MLK1_CAEEL</td>\n      <td>MEQASVPSYVNIPPIAKTRSTSHLAPTPEHHRSVSYEDTTTASTST...</td>\n      <td>DOMAIN 69..130; /note=\"SH3\"; /evidence=\"ECO:00...</td>\n      <td>Protein kinase superfamily, STE Ser/Thr protei...</td>\n    </tr>\n    <tr>\n      <th>4</th>\n      <td>A0A0P0VIP0</td>\n      <td>LRSK7_ORYSJ</td>\n      <td>MPPRCRRLPLLFILLLAVRPLSAAAASSIAAAPASSYRRISWASNL...</td>\n      <td>DOMAIN 389..661; /note=\"Protein kinase\"; /evid...</td>\n      <td>Leguminous lectin family; Protein kinase super...</td>\n    </tr>\n  </tbody>\n</table>\n</div>"
     },
     "execution_count": 6,
     "metadata": {},
     "output_type": "execute_result"
    }
   ],
   "source": [
    "df_up.head()"
   ],
   "metadata": {
    "collapsed": false
   }
  },
  {
   "cell_type": "code",
   "execution_count": 7,
   "outputs": [],
   "source": [
    "prof = PyHMMer(BytesIO(gzip.decompress(\n",
    "    fetch_text(LINK_PFAM, decode=False)\n",
    ")))"
   ],
   "metadata": {
    "collapsed": false
   }
  },
  {
   "cell_type": "markdown",
   "source": [
    "### 2.2 Convert sequences"
   ],
   "metadata": {
    "collapsed": false
   }
  },
  {
   "cell_type": "code",
   "execution_count": 8,
   "outputs": [],
   "source": [
    "def wrap_into_chain_seq(row):\n",
    "    fam_df = row['Protein families']\n",
    "    family = 'other'\n",
    "    if 'protein kinase family' in fam_df:\n",
    "        if 'Ser/Thr' in fam_df:\n",
    "            family = 'STk'\n",
    "        elif 'Tyr' in fam_df:\n",
    "            family = 'Tk'\n",
    "\n",
    "    return ChainSequence.from_string(\n",
    "        row['Sequence'], name=row['Entry Name'], meta={'Family': family}\n",
    "    )"
   ],
   "metadata": {
    "collapsed": false
   }
  },
  {
   "cell_type": "code",
   "execution_count": 9,
   "outputs": [
    {
     "data": {
      "text/plain": "Counter({'STk': 3674, 'Tk': 551, 'other': 248})"
     },
     "execution_count": 9,
     "metadata": {},
     "output_type": "execute_result"
    }
   ],
   "source": [
    "chains = ChainList(\n",
    "    wrap_into_chain_seq(r) for _, r in df_up.iterrows()\n",
    ")\n",
    "Counter(c.meta['Family'] for c in chains)"
   ],
   "metadata": {
    "collapsed": false
   }
  },
  {
   "cell_type": "code",
   "execution_count": 10,
   "outputs": [],
   "source": [
    "chains = chains.filter(lambda x: x.meta['Family'] != 'other')"
   ],
   "metadata": {
    "collapsed": false
   }
  },
  {
   "cell_type": "code",
   "execution_count": 11,
   "outputs": [],
   "source": [
    "consume(prof.annotate(\n",
    "    chains, new_map_name='PK', min_size=200, min_cov_hmm=0.7, min_score=30\n",
    "));"
   ],
   "metadata": {
    "collapsed": false
   }
  },
  {
   "cell_type": "code",
   "execution_count": 12,
   "outputs": [
    {
     "data": {
      "text/plain": "(4225, 3893)"
     },
     "execution_count": 12,
     "metadata": {},
     "output_type": "execute_result"
    }
   ],
   "source": [
    "len(chains), len(chains.collapse_children())"
   ],
   "metadata": {
    "collapsed": false
   }
  },
  {
   "cell_type": "code",
   "execution_count": 13,
   "outputs": [
    {
     "data": {
      "text/plain": "(3844, Counter({'STk': 3391, 'Tk': 453}))"
     },
     "execution_count": 13,
     "metadata": {},
     "output_type": "execute_result"
    }
   ],
   "source": [
    "chains = chains.filter(lambda x: len(x.children) > 0)\n",
    "len(chains), Counter(c.meta['Family'] for c in chains)"
   ],
   "metadata": {
    "collapsed": false
   }
  },
  {
   "cell_type": "markdown",
   "source": [
    "### 2.3 Prepare encoded dataset"
   ],
   "metadata": {
    "collapsed": false
   }
  },
  {
   "cell_type": "code",
   "execution_count": 14,
   "outputs": [],
   "source": [
    "N_COMP = 3"
   ],
   "metadata": {
    "collapsed": false
   }
  },
  {
   "cell_type": "code",
   "execution_count": 15,
   "outputs": [
    {
     "data": {
      "text/plain": "792"
     },
     "execution_count": 15,
     "metadata": {},
     "output_type": "execute_result"
    }
   ],
   "source": [
    "variables = list(chain.from_iterable(\n",
    "    (PFP(pos, i) for i in range(1, N_COMP + 1)) for pos in range(1, prof.hmm.M + 1)\n",
    "))\n",
    "len(variables)"
   ],
   "metadata": {
    "collapsed": false
   }
  },
  {
   "cell_type": "code",
   "execution_count": 16,
   "outputs": [
    {
     "data": {
      "text/plain": "Aggregating variables: 0it [00:00, ?it/s]",
      "application/vnd.jupyter.widget-view+json": {
       "version_major": 2,
       "version_minor": 0,
       "model_id": "a8ca1469da1342a2b05c9b6c98aa762a"
      }
     },
     "metadata": {},
     "output_type": "display_data"
    },
    {
     "data": {
      "text/plain": "Staging calculations:   0%|          | 0/3893 [00:00<?, ?it/s]",
      "application/vnd.jupyter.widget-view+json": {
       "version_major": 2,
       "version_minor": 0,
       "model_id": "fc07645a17214c618633384213a53f00"
      }
     },
     "metadata": {},
     "output_type": "display_data"
    },
    {
     "data": {
      "text/plain": "Calculating variables: 0it [00:00, ?it/s]",
      "application/vnd.jupyter.widget-view+json": {
       "version_major": 2,
       "version_minor": 0,
       "model_id": "e460c91b1d1146b695adadd2fc41e3bd"
      }
     },
     "metadata": {},
     "output_type": "display_data"
    }
   ],
   "source": [
    "manager = Manager(verbose=True)\n",
    "calculator = GenericCalculator()\n",
    "domains = chains.collapse_children()\n",
    "df = manager.aggregate_from_it(\n",
    "    manager.calculate(domains, variables, calculator, map_name='PK')\n",
    ")"
   ],
   "metadata": {
    "collapsed": false
   }
  },
  {
   "cell_type": "code",
   "execution_count": 17,
   "outputs": [],
   "source": [
    "cls_map = {'STk': 0, 'Tk': 1}\n",
    "id2cls = {s.id: cls_map[s.parent.meta['Family']] for s in domains}\n",
    "df['IsTk'] = df['ObjectID'].map(id2cls)"
   ],
   "metadata": {
    "collapsed": false
   }
  },
  {
   "cell_type": "code",
   "execution_count": 18,
   "outputs": [
    {
     "data": {
      "text/plain": "                            ObjectID  PFP(p=1,i=1)  PFP(p=1,i=2)  \\\n0  PK_1|526-791<-(LERK1_ORYSI|1-813)           NaN           NaN   \n1  PK_1|21-274<-(M3KE1_BRANA|1-1299)           NaN           NaN   \n2   PK_1|27-278<-(SIK1B_HUMAN|1-783)          3.14          3.59   \n3  PK_1|188-445<-(MLK1_CAEEL|1-1059)           NaN           NaN   \n4  PK_1|392-592<-(LRSK7_ORYSJ|1-695)           NaN           NaN   \n\n   PFP(p=1,i=3)  PFP(p=2,i=1)  PFP(p=2,i=2)  PFP(p=2,i=3)  PFP(p=3,i=1)  \\\n0           NaN           NaN           NaN           NaN           NaN   \n1           NaN          5.11          0.19         -1.02          5.76   \n2          2.45         -6.61          0.94         -3.04          6.58   \n3           NaN           NaN           NaN           NaN           NaN   \n4           NaN           NaN           NaN           NaN           NaN   \n\n   PFP(p=3,i=2)  PFP(p=3,i=3)  ...  PFP(p=262,i=1)  PFP(p=262,i=2)  \\\n0           NaN           NaN  ...             NaN             NaN   \n1         -1.33         -1.71  ...           -3.82           -2.31   \n2         -1.73         -2.49  ...           -2.79            6.60   \n3           NaN           NaN  ...             NaN             NaN   \n4           NaN           NaN  ...             NaN             NaN   \n\n   PFP(p=262,i=3)  PFP(p=263,i=1)  PFP(p=263,i=2)  PFP(p=263,i=3)  \\\n0             NaN             NaN             NaN             NaN   \n1            3.45            7.33            4.55            2.77   \n2            1.21            7.33            4.55            2.77   \n3             NaN             NaN             NaN             NaN   \n4             NaN             NaN             NaN             NaN   \n\n   PFP(p=264,i=1)  PFP(p=264,i=2)  PFP(p=264,i=3)  IsTk  \n0             NaN             NaN             NaN     0  \n1            6.58           -1.73           -2.49     0  \n2            5.11            0.19           -1.02     0  \n3             NaN             NaN             NaN     0  \n4             NaN             NaN             NaN     0  \n\n[5 rows x 794 columns]",
      "text/html": "<div>\n<style scoped>\n    .dataframe tbody tr th:only-of-type {\n        vertical-align: middle;\n    }\n\n    .dataframe tbody tr th {\n        vertical-align: top;\n    }\n\n    .dataframe thead th {\n        text-align: right;\n    }\n</style>\n<table border=\"1\" class=\"dataframe\">\n  <thead>\n    <tr style=\"text-align: right;\">\n      <th></th>\n      <th>ObjectID</th>\n      <th>PFP(p=1,i=1)</th>\n      <th>PFP(p=1,i=2)</th>\n      <th>PFP(p=1,i=3)</th>\n      <th>PFP(p=2,i=1)</th>\n      <th>PFP(p=2,i=2)</th>\n      <th>PFP(p=2,i=3)</th>\n      <th>PFP(p=3,i=1)</th>\n      <th>PFP(p=3,i=2)</th>\n      <th>PFP(p=3,i=3)</th>\n      <th>...</th>\n      <th>PFP(p=262,i=1)</th>\n      <th>PFP(p=262,i=2)</th>\n      <th>PFP(p=262,i=3)</th>\n      <th>PFP(p=263,i=1)</th>\n      <th>PFP(p=263,i=2)</th>\n      <th>PFP(p=263,i=3)</th>\n      <th>PFP(p=264,i=1)</th>\n      <th>PFP(p=264,i=2)</th>\n      <th>PFP(p=264,i=3)</th>\n      <th>IsTk</th>\n    </tr>\n  </thead>\n  <tbody>\n    <tr>\n      <th>0</th>\n      <td>PK_1|526-791&lt;-(LERK1_ORYSI|1-813)</td>\n      <td>NaN</td>\n      <td>NaN</td>\n      <td>NaN</td>\n      <td>NaN</td>\n      <td>NaN</td>\n      <td>NaN</td>\n      <td>NaN</td>\n      <td>NaN</td>\n      <td>NaN</td>\n      <td>...</td>\n      <td>NaN</td>\n      <td>NaN</td>\n      <td>NaN</td>\n      <td>NaN</td>\n      <td>NaN</td>\n      <td>NaN</td>\n      <td>NaN</td>\n      <td>NaN</td>\n      <td>NaN</td>\n      <td>0</td>\n    </tr>\n    <tr>\n      <th>1</th>\n      <td>PK_1|21-274&lt;-(M3KE1_BRANA|1-1299)</td>\n      <td>NaN</td>\n      <td>NaN</td>\n      <td>NaN</td>\n      <td>5.11</td>\n      <td>0.19</td>\n      <td>-1.02</td>\n      <td>5.76</td>\n      <td>-1.33</td>\n      <td>-1.71</td>\n      <td>...</td>\n      <td>-3.82</td>\n      <td>-2.31</td>\n      <td>3.45</td>\n      <td>7.33</td>\n      <td>4.55</td>\n      <td>2.77</td>\n      <td>6.58</td>\n      <td>-1.73</td>\n      <td>-2.49</td>\n      <td>0</td>\n    </tr>\n    <tr>\n      <th>2</th>\n      <td>PK_1|27-278&lt;-(SIK1B_HUMAN|1-783)</td>\n      <td>3.14</td>\n      <td>3.59</td>\n      <td>2.45</td>\n      <td>-6.61</td>\n      <td>0.94</td>\n      <td>-3.04</td>\n      <td>6.58</td>\n      <td>-1.73</td>\n      <td>-2.49</td>\n      <td>...</td>\n      <td>-2.79</td>\n      <td>6.60</td>\n      <td>1.21</td>\n      <td>7.33</td>\n      <td>4.55</td>\n      <td>2.77</td>\n      <td>5.11</td>\n      <td>0.19</td>\n      <td>-1.02</td>\n      <td>0</td>\n    </tr>\n    <tr>\n      <th>3</th>\n      <td>PK_1|188-445&lt;-(MLK1_CAEEL|1-1059)</td>\n      <td>NaN</td>\n      <td>NaN</td>\n      <td>NaN</td>\n      <td>NaN</td>\n      <td>NaN</td>\n      <td>NaN</td>\n      <td>NaN</td>\n      <td>NaN</td>\n      <td>NaN</td>\n      <td>...</td>\n      <td>NaN</td>\n      <td>NaN</td>\n      <td>NaN</td>\n      <td>NaN</td>\n      <td>NaN</td>\n      <td>NaN</td>\n      <td>NaN</td>\n      <td>NaN</td>\n      <td>NaN</td>\n      <td>0</td>\n    </tr>\n    <tr>\n      <th>4</th>\n      <td>PK_1|392-592&lt;-(LRSK7_ORYSJ|1-695)</td>\n      <td>NaN</td>\n      <td>NaN</td>\n      <td>NaN</td>\n      <td>NaN</td>\n      <td>NaN</td>\n      <td>NaN</td>\n      <td>NaN</td>\n      <td>NaN</td>\n      <td>NaN</td>\n      <td>...</td>\n      <td>NaN</td>\n      <td>NaN</td>\n      <td>NaN</td>\n      <td>NaN</td>\n      <td>NaN</td>\n      <td>NaN</td>\n      <td>NaN</td>\n      <td>NaN</td>\n      <td>NaN</td>\n      <td>0</td>\n    </tr>\n  </tbody>\n</table>\n<p>5 rows × 794 columns</p>\n</div>"
     },
     "execution_count": 18,
     "metadata": {},
     "output_type": "execute_result"
    }
   ],
   "source": [
    "df.head()"
   ],
   "metadata": {
    "collapsed": false
   }
  },
  {
   "cell_type": "markdown",
   "metadata": {},
   "source": [
    "## 3. Run feature selection"
   ]
  },
  {
   "cell_type": "code",
   "execution_count": 60,
   "metadata": {},
   "outputs": [],
   "source": [
    "from dataclasses import dataclass\n",
    "\n",
    "import numpy as np\n",
    "import optuna\n",
    "import shap\n",
    "from eBoruta import eBoruta\n",
    "from sklearn.metrics import f1_score\n",
    "from sklearn.model_selection import StratifiedShuffleSplit\n",
    "from xgboost import XGBClassifier"
   ]
  },
  {
   "cell_type": "code",
   "execution_count": 45,
   "outputs": [],
   "source": [
    "@dataclass\n",
    "class Dataset:\n",
    "    df: pd.DataFrame\n",
    "    x_names: list[str]\n",
    "    y_name: str\n",
    "\n",
    "    @property\n",
    "    def x(self) -> pd.DataFrame:\n",
    "        return self.df[self.x_names]\n",
    "\n",
    "    @property\n",
    "    def y(self) -> pd.Series:\n",
    "        return self.df[self.y_name]\n",
    "\n",
    "\n",
    "def sel_by_idx(ds, idx):\n",
    "    return Dataset(ds.df.iloc[idx], ds.x_names, ds.y_name)\n",
    "\n",
    "\n",
    "def score(ds, model, score_fn=f1_score):\n",
    "    return score_fn(ds.y.values, model.predict(ds.x))\n",
    "\n",
    "\n",
    "def cv(ds, model, n=10, score_fn=f1_score, agg_fn=np.mean):\n",
    "    scores = []\n",
    "    splitter = StratifiedShuffleSplit(n_splits=n)\n",
    "    for train_idx, test_idx in splitter.split(ds.x, ds.y):\n",
    "        ds_train = sel_by_idx(ds, train_idx)\n",
    "        ds_test = sel_by_idx(ds, test_idx)\n",
    "        _model = model.__class__(**model.get_params())\n",
    "        _model.fit(ds_train.x, ds_train.y)\n",
    "        scores.append(score(ds_test, _model, score_fn))\n",
    "    return agg_fn(scores)\n",
    "\n",
    "# def plot_imp_history(df_history: pd.DataFrame):\n",
    "#     sns.lineplot(x='Step', y='Importance', hue='Feature', data=df_history)\n",
    "#     sns.lineplot(x='Step', y='Threshold', data=df_history, linestyle='--', linewidth=4)"
   ],
   "metadata": {
    "collapsed": false
   }
  },
  {
   "cell_type": "code",
   "execution_count": 55,
   "outputs": [],
   "source": [
    "dataset = Dataset(df, [c for c in df.columns if 'PFP' in c], 'IsTk')\n",
    "classifier = XGBClassifier(n_jobs=-1)"
   ],
   "metadata": {
    "collapsed": false
   }
  },
  {
   "cell_type": "markdown",
   "source": [
    "### 3.2 Cross-validate the initial model"
   ],
   "metadata": {
    "collapsed": false
   }
  },
  {
   "cell_type": "code",
   "execution_count": 54,
   "outputs": [
    {
     "data": {
      "text/plain": "0.9796576971175099"
     },
     "execution_count": 54,
     "metadata": {},
     "output_type": "execute_result"
    }
   ],
   "source": [
    "cv(dataset, XGBClassifier(n_jobs=-1))"
   ],
   "metadata": {
    "collapsed": false
   }
  },
  {
   "cell_type": "markdown",
   "source": [
    "### 3.3 Select Features"
   ],
   "metadata": {
    "collapsed": false
   }
  },
  {
   "cell_type": "code",
   "execution_count": 20,
   "outputs": [
    {
     "name": "stderr",
     "output_type": "stream",
     "text": [
      "\n",
      "Traceback (most recent call last):\n",
      "  File \"/Users/ivanreveguk/Projects/eBoruta/eBoruta/dataprep.py\", line 127, in has_missing\n",
      "    assert isinstance(res, bool)\n",
      "AssertionError\n",
      "Failed to check input for missing values due to \n"
     ]
    },
    {
     "data": {
      "text/plain": "Boruta trials:   0%|          | 0/100 [00:00<?, ?it/s]",
      "application/vnd.jupyter.widget-view+json": {
       "version_major": 2,
       "version_minor": 0,
       "model_id": "7bf5d574de18477db76adc03054e07c6"
      }
     },
     "metadata": {},
     "output_type": "display_data"
    },
    {
     "name": "stderr",
     "output_type": "stream",
     "text": [
      "ntree_limit is deprecated, use `iteration_range` or model slicing instead.\n",
      "ntree_limit is deprecated, use `iteration_range` or model slicing instead.\n",
      "ntree_limit is deprecated, use `iteration_range` or model slicing instead.\n",
      "ntree_limit is deprecated, use `iteration_range` or model slicing instead.\n",
      "ntree_limit is deprecated, use `iteration_range` or model slicing instead.\n",
      "ntree_limit is deprecated, use `iteration_range` or model slicing instead.\n",
      "ntree_limit is deprecated, use `iteration_range` or model slicing instead.\n",
      "ntree_limit is deprecated, use `iteration_range` or model slicing instead.\n",
      "ntree_limit is deprecated, use `iteration_range` or model slicing instead.\n",
      "ntree_limit is deprecated, use `iteration_range` or model slicing instead.\n",
      "ntree_limit is deprecated, use `iteration_range` or model slicing instead.\n",
      "ntree_limit is deprecated, use `iteration_range` or model slicing instead.\n",
      "ntree_limit is deprecated, use `iteration_range` or model slicing instead.\n",
      "ntree_limit is deprecated, use `iteration_range` or model slicing instead.\n",
      "ntree_limit is deprecated, use `iteration_range` or model slicing instead.\n",
      "ntree_limit is deprecated, use `iteration_range` or model slicing instead.\n",
      "ntree_limit is deprecated, use `iteration_range` or model slicing instead.\n",
      "ntree_limit is deprecated, use `iteration_range` or model slicing instead.\n",
      "ntree_limit is deprecated, use `iteration_range` or model slicing instead.\n",
      "ntree_limit is deprecated, use `iteration_range` or model slicing instead.\n",
      "ntree_limit is deprecated, use `iteration_range` or model slicing instead.\n",
      "ntree_limit is deprecated, use `iteration_range` or model slicing instead.\n",
      "ntree_limit is deprecated, use `iteration_range` or model slicing instead.\n",
      "ntree_limit is deprecated, use `iteration_range` or model slicing instead.\n",
      "ntree_limit is deprecated, use `iteration_range` or model slicing instead.\n",
      "ntree_limit is deprecated, use `iteration_range` or model slicing instead.\n",
      "ntree_limit is deprecated, use `iteration_range` or model slicing instead.\n",
      "ntree_limit is deprecated, use `iteration_range` or model slicing instead.\n",
      "ntree_limit is deprecated, use `iteration_range` or model slicing instead.\n",
      "ntree_limit is deprecated, use `iteration_range` or model slicing instead.\n",
      "ntree_limit is deprecated, use `iteration_range` or model slicing instead.\n",
      "ntree_limit is deprecated, use `iteration_range` or model slicing instead.\n",
      "ntree_limit is deprecated, use `iteration_range` or model slicing instead.\n",
      "ntree_limit is deprecated, use `iteration_range` or model slicing instead.\n",
      "ntree_limit is deprecated, use `iteration_range` or model slicing instead.\n",
      "ntree_limit is deprecated, use `iteration_range` or model slicing instead.\n",
      "ntree_limit is deprecated, use `iteration_range` or model slicing instead.\n",
      "ntree_limit is deprecated, use `iteration_range` or model slicing instead.\n",
      "ntree_limit is deprecated, use `iteration_range` or model slicing instead.\n",
      "ntree_limit is deprecated, use `iteration_range` or model slicing instead.\n",
      "ntree_limit is deprecated, use `iteration_range` or model slicing instead.\n",
      "ntree_limit is deprecated, use `iteration_range` or model slicing instead.\n",
      "ntree_limit is deprecated, use `iteration_range` or model slicing instead.\n",
      "ntree_limit is deprecated, use `iteration_range` or model slicing instead.\n",
      "ntree_limit is deprecated, use `iteration_range` or model slicing instead.\n",
      "ntree_limit is deprecated, use `iteration_range` or model slicing instead.\n",
      "ntree_limit is deprecated, use `iteration_range` or model slicing instead.\n",
      "ntree_limit is deprecated, use `iteration_range` or model slicing instead.\n",
      "ntree_limit is deprecated, use `iteration_range` or model slicing instead.\n",
      "ntree_limit is deprecated, use `iteration_range` or model slicing instead.\n",
      "ntree_limit is deprecated, use `iteration_range` or model slicing instead.\n",
      "ntree_limit is deprecated, use `iteration_range` or model slicing instead.\n",
      "ntree_limit is deprecated, use `iteration_range` or model slicing instead.\n",
      "ntree_limit is deprecated, use `iteration_range` or model slicing instead.\n",
      "ntree_limit is deprecated, use `iteration_range` or model slicing instead.\n",
      "ntree_limit is deprecated, use `iteration_range` or model slicing instead.\n",
      "ntree_limit is deprecated, use `iteration_range` or model slicing instead.\n",
      "ntree_limit is deprecated, use `iteration_range` or model slicing instead.\n",
      "ntree_limit is deprecated, use `iteration_range` or model slicing instead.\n",
      "ntree_limit is deprecated, use `iteration_range` or model slicing instead.\n",
      "ntree_limit is deprecated, use `iteration_range` or model slicing instead.\n",
      "ntree_limit is deprecated, use `iteration_range` or model slicing instead.\n",
      "ntree_limit is deprecated, use `iteration_range` or model slicing instead.\n",
      "ntree_limit is deprecated, use `iteration_range` or model slicing instead.\n",
      "ntree_limit is deprecated, use `iteration_range` or model slicing instead.\n",
      "ntree_limit is deprecated, use `iteration_range` or model slicing instead.\n",
      "ntree_limit is deprecated, use `iteration_range` or model slicing instead.\n",
      "ntree_limit is deprecated, use `iteration_range` or model slicing instead.\n",
      "ntree_limit is deprecated, use `iteration_range` or model slicing instead.\n",
      "ntree_limit is deprecated, use `iteration_range` or model slicing instead.\n",
      "ntree_limit is deprecated, use `iteration_range` or model slicing instead.\n",
      "ntree_limit is deprecated, use `iteration_range` or model slicing instead.\n",
      "ntree_limit is deprecated, use `iteration_range` or model slicing instead.\n",
      "ntree_limit is deprecated, use `iteration_range` or model slicing instead.\n",
      "ntree_limit is deprecated, use `iteration_range` or model slicing instead.\n",
      "ntree_limit is deprecated, use `iteration_range` or model slicing instead.\n",
      "ntree_limit is deprecated, use `iteration_range` or model slicing instead.\n",
      "ntree_limit is deprecated, use `iteration_range` or model slicing instead.\n",
      "ntree_limit is deprecated, use `iteration_range` or model slicing instead.\n",
      "ntree_limit is deprecated, use `iteration_range` or model slicing instead.\n",
      "ntree_limit is deprecated, use `iteration_range` or model slicing instead.\n",
      "ntree_limit is deprecated, use `iteration_range` or model slicing instead.\n",
      "ntree_limit is deprecated, use `iteration_range` or model slicing instead.\n",
      "ntree_limit is deprecated, use `iteration_range` or model slicing instead.\n",
      "ntree_limit is deprecated, use `iteration_range` or model slicing instead.\n",
      "ntree_limit is deprecated, use `iteration_range` or model slicing instead.\n",
      "ntree_limit is deprecated, use `iteration_range` or model slicing instead.\n",
      "ntree_limit is deprecated, use `iteration_range` or model slicing instead.\n",
      "ntree_limit is deprecated, use `iteration_range` or model slicing instead.\n",
      "ntree_limit is deprecated, use `iteration_range` or model slicing instead.\n",
      "ntree_limit is deprecated, use `iteration_range` or model slicing instead.\n",
      "ntree_limit is deprecated, use `iteration_range` or model slicing instead.\n",
      "ntree_limit is deprecated, use `iteration_range` or model slicing instead.\n",
      "ntree_limit is deprecated, use `iteration_range` or model slicing instead.\n",
      "ntree_limit is deprecated, use `iteration_range` or model slicing instead.\n",
      "ntree_limit is deprecated, use `iteration_range` or model slicing instead.\n",
      "ntree_limit is deprecated, use `iteration_range` or model slicing instead.\n",
      "ntree_limit is deprecated, use `iteration_range` or model slicing instead.\n",
      "ntree_limit is deprecated, use `iteration_range` or model slicing instead.\n",
      "ntree_limit is deprecated, use `iteration_range` or model slicing instead.\n"
     ]
    },
    {
     "data": {
      "text/plain": "eBoruta(n_iter=100, percentile=95)",
      "text/html": "<style>#sk-container-id-1 {color: black;background-color: white;}#sk-container-id-1 pre{padding: 0;}#sk-container-id-1 div.sk-toggleable {background-color: white;}#sk-container-id-1 label.sk-toggleable__label {cursor: pointer;display: block;width: 100%;margin-bottom: 0;padding: 0.3em;box-sizing: border-box;text-align: center;}#sk-container-id-1 label.sk-toggleable__label-arrow:before {content: \"▸\";float: left;margin-right: 0.25em;color: #696969;}#sk-container-id-1 label.sk-toggleable__label-arrow:hover:before {color: black;}#sk-container-id-1 div.sk-estimator:hover label.sk-toggleable__label-arrow:before {color: black;}#sk-container-id-1 div.sk-toggleable__content {max-height: 0;max-width: 0;overflow: hidden;text-align: left;background-color: #f0f8ff;}#sk-container-id-1 div.sk-toggleable__content pre {margin: 0.2em;color: black;border-radius: 0.25em;background-color: #f0f8ff;}#sk-container-id-1 input.sk-toggleable__control:checked~div.sk-toggleable__content {max-height: 200px;max-width: 100%;overflow: auto;}#sk-container-id-1 input.sk-toggleable__control:checked~label.sk-toggleable__label-arrow:before {content: \"▾\";}#sk-container-id-1 div.sk-estimator input.sk-toggleable__control:checked~label.sk-toggleable__label {background-color: #d4ebff;}#sk-container-id-1 div.sk-label input.sk-toggleable__control:checked~label.sk-toggleable__label {background-color: #d4ebff;}#sk-container-id-1 input.sk-hidden--visually {border: 0;clip: rect(1px 1px 1px 1px);clip: rect(1px, 1px, 1px, 1px);height: 1px;margin: -1px;overflow: hidden;padding: 0;position: absolute;width: 1px;}#sk-container-id-1 div.sk-estimator {font-family: monospace;background-color: #f0f8ff;border: 1px dotted black;border-radius: 0.25em;box-sizing: border-box;margin-bottom: 0.5em;}#sk-container-id-1 div.sk-estimator:hover {background-color: #d4ebff;}#sk-container-id-1 div.sk-parallel-item::after {content: \"\";width: 100%;border-bottom: 1px solid gray;flex-grow: 1;}#sk-container-id-1 div.sk-label:hover label.sk-toggleable__label {background-color: #d4ebff;}#sk-container-id-1 div.sk-serial::before {content: \"\";position: absolute;border-left: 1px solid gray;box-sizing: border-box;top: 0;bottom: 0;left: 50%;z-index: 0;}#sk-container-id-1 div.sk-serial {display: flex;flex-direction: column;align-items: center;background-color: white;padding-right: 0.2em;padding-left: 0.2em;position: relative;}#sk-container-id-1 div.sk-item {position: relative;z-index: 1;}#sk-container-id-1 div.sk-parallel {display: flex;align-items: stretch;justify-content: center;background-color: white;position: relative;}#sk-container-id-1 div.sk-item::before, #sk-container-id-1 div.sk-parallel-item::before {content: \"\";position: absolute;border-left: 1px solid gray;box-sizing: border-box;top: 0;bottom: 0;left: 50%;z-index: -1;}#sk-container-id-1 div.sk-parallel-item {display: flex;flex-direction: column;z-index: 1;position: relative;background-color: white;}#sk-container-id-1 div.sk-parallel-item:first-child::after {align-self: flex-end;width: 50%;}#sk-container-id-1 div.sk-parallel-item:last-child::after {align-self: flex-start;width: 50%;}#sk-container-id-1 div.sk-parallel-item:only-child::after {width: 0;}#sk-container-id-1 div.sk-dashed-wrapped {border: 1px dashed gray;margin: 0 0.4em 0.5em 0.4em;box-sizing: border-box;padding-bottom: 0.4em;background-color: white;}#sk-container-id-1 div.sk-label label {font-family: monospace;font-weight: bold;display: inline-block;line-height: 1.2em;}#sk-container-id-1 div.sk-label-container {text-align: center;}#sk-container-id-1 div.sk-container {/* jupyter's `normalize.less` sets `[hidden] { display: none; }` but bootstrap.min.css set `[hidden] { display: none !important; }` so we also need the `!important` here to be able to override the default hidden behavior on the sphinx rendered scikit-learn.org. See: https://github.com/scikit-learn/scikit-learn/issues/21755 */display: inline-block !important;position: relative;}#sk-container-id-1 div.sk-text-repr-fallback {display: none;}</style><div id=\"sk-container-id-1\" class=\"sk-top-container\"><div class=\"sk-text-repr-fallback\"><pre>eBoruta(n_iter=100, percentile=95)</pre><b>In a Jupyter environment, please rerun this cell to show the HTML representation or trust the notebook. <br />On GitHub, the HTML representation is unable to render, please try loading this page with nbviewer.org.</b></div><div class=\"sk-container\" hidden><div class=\"sk-item\"><div class=\"sk-estimator sk-toggleable\"><input class=\"sk-toggleable__control sk-hidden--visually\" id=\"sk-estimator-id-1\" type=\"checkbox\" checked><label for=\"sk-estimator-id-1\" class=\"sk-toggleable__label sk-toggleable__label-arrow\">eBoruta</label><div class=\"sk-toggleable__content\"><pre>eBoruta(n_iter=100, percentile=95)</pre></div></div></div></div></div>"
     },
     "execution_count": 20,
     "metadata": {},
     "output_type": "execute_result"
    }
   ],
   "source": [
    "boruta = eBoruta(n_iter=100)\n",
    "boruta.fit(dataset.x, dataset.y, model=classifier)"
   ],
   "metadata": {
    "collapsed": false
   }
  },
  {
   "cell_type": "code",
   "execution_count": 58,
   "outputs": [],
   "source": [
    "accepted = boruta.features_.accepted\n",
    "ds_sel = Dataset(\n",
    "    df[list(accepted) + [dataset.y_name]], list(accepted), dataset.y_name\n",
    ")"
   ],
   "metadata": {
    "collapsed": false
   }
  },
  {
   "cell_type": "code",
   "execution_count": 59,
   "outputs": [
    {
     "data": {
      "text/plain": "0.9892923297770253"
     },
     "execution_count": 59,
     "metadata": {},
     "output_type": "execute_result"
    }
   ],
   "source": [
    "cv(ds_sel, XGBClassifier(n_jobs=-1))"
   ],
   "metadata": {
    "collapsed": false
   }
  },
  {
   "cell_type": "code",
   "execution_count": 64,
   "outputs": [
    {
     "data": {
      "text/plain": "XGBClassifier(base_score=0.5, booster='gbtree', callbacks=None,\n              colsample_bylevel=1, colsample_bynode=1, colsample_bytree=1,\n              early_stopping_rounds=None, enable_categorical=False,\n              eval_metric=None, feature_types=None, gamma=0, gpu_id=-1,\n              grow_policy='depthwise', importance_type=None,\n              interaction_constraints='', learning_rate=0.300000012,\n              max_bin=256, max_cat_threshold=64, max_cat_to_onehot=4,\n              max_delta_step=0, max_depth=6, max_leaves=0, min_child_weight=1,\n              missing=nan, monotone_constraints='()', n_estimators=100,\n              n_jobs=0, num_parallel_tree=1, predictor='auto', random_state=0, ...)",
      "text/html": "<style>#sk-container-id-2 {color: black;background-color: white;}#sk-container-id-2 pre{padding: 0;}#sk-container-id-2 div.sk-toggleable {background-color: white;}#sk-container-id-2 label.sk-toggleable__label {cursor: pointer;display: block;width: 100%;margin-bottom: 0;padding: 0.3em;box-sizing: border-box;text-align: center;}#sk-container-id-2 label.sk-toggleable__label-arrow:before {content: \"▸\";float: left;margin-right: 0.25em;color: #696969;}#sk-container-id-2 label.sk-toggleable__label-arrow:hover:before {color: black;}#sk-container-id-2 div.sk-estimator:hover label.sk-toggleable__label-arrow:before {color: black;}#sk-container-id-2 div.sk-toggleable__content {max-height: 0;max-width: 0;overflow: hidden;text-align: left;background-color: #f0f8ff;}#sk-container-id-2 div.sk-toggleable__content pre {margin: 0.2em;color: black;border-radius: 0.25em;background-color: #f0f8ff;}#sk-container-id-2 input.sk-toggleable__control:checked~div.sk-toggleable__content {max-height: 200px;max-width: 100%;overflow: auto;}#sk-container-id-2 input.sk-toggleable__control:checked~label.sk-toggleable__label-arrow:before {content: \"▾\";}#sk-container-id-2 div.sk-estimator input.sk-toggleable__control:checked~label.sk-toggleable__label {background-color: #d4ebff;}#sk-container-id-2 div.sk-label input.sk-toggleable__control:checked~label.sk-toggleable__label {background-color: #d4ebff;}#sk-container-id-2 input.sk-hidden--visually {border: 0;clip: rect(1px 1px 1px 1px);clip: rect(1px, 1px, 1px, 1px);height: 1px;margin: -1px;overflow: hidden;padding: 0;position: absolute;width: 1px;}#sk-container-id-2 div.sk-estimator {font-family: monospace;background-color: #f0f8ff;border: 1px dotted black;border-radius: 0.25em;box-sizing: border-box;margin-bottom: 0.5em;}#sk-container-id-2 div.sk-estimator:hover {background-color: #d4ebff;}#sk-container-id-2 div.sk-parallel-item::after {content: \"\";width: 100%;border-bottom: 1px solid gray;flex-grow: 1;}#sk-container-id-2 div.sk-label:hover label.sk-toggleable__label {background-color: #d4ebff;}#sk-container-id-2 div.sk-serial::before {content: \"\";position: absolute;border-left: 1px solid gray;box-sizing: border-box;top: 0;bottom: 0;left: 50%;z-index: 0;}#sk-container-id-2 div.sk-serial {display: flex;flex-direction: column;align-items: center;background-color: white;padding-right: 0.2em;padding-left: 0.2em;position: relative;}#sk-container-id-2 div.sk-item {position: relative;z-index: 1;}#sk-container-id-2 div.sk-parallel {display: flex;align-items: stretch;justify-content: center;background-color: white;position: relative;}#sk-container-id-2 div.sk-item::before, #sk-container-id-2 div.sk-parallel-item::before {content: \"\";position: absolute;border-left: 1px solid gray;box-sizing: border-box;top: 0;bottom: 0;left: 50%;z-index: -1;}#sk-container-id-2 div.sk-parallel-item {display: flex;flex-direction: column;z-index: 1;position: relative;background-color: white;}#sk-container-id-2 div.sk-parallel-item:first-child::after {align-self: flex-end;width: 50%;}#sk-container-id-2 div.sk-parallel-item:last-child::after {align-self: flex-start;width: 50%;}#sk-container-id-2 div.sk-parallel-item:only-child::after {width: 0;}#sk-container-id-2 div.sk-dashed-wrapped {border: 1px dashed gray;margin: 0 0.4em 0.5em 0.4em;box-sizing: border-box;padding-bottom: 0.4em;background-color: white;}#sk-container-id-2 div.sk-label label {font-family: monospace;font-weight: bold;display: inline-block;line-height: 1.2em;}#sk-container-id-2 div.sk-label-container {text-align: center;}#sk-container-id-2 div.sk-container {/* jupyter's `normalize.less` sets `[hidden] { display: none; }` but bootstrap.min.css set `[hidden] { display: none !important; }` so we also need the `!important` here to be able to override the default hidden behavior on the sphinx rendered scikit-learn.org. See: https://github.com/scikit-learn/scikit-learn/issues/21755 */display: inline-block !important;position: relative;}#sk-container-id-2 div.sk-text-repr-fallback {display: none;}</style><div id=\"sk-container-id-2\" class=\"sk-top-container\"><div class=\"sk-text-repr-fallback\"><pre>XGBClassifier(base_score=0.5, booster=&#x27;gbtree&#x27;, callbacks=None,\n              colsample_bylevel=1, colsample_bynode=1, colsample_bytree=1,\n              early_stopping_rounds=None, enable_categorical=False,\n              eval_metric=None, feature_types=None, gamma=0, gpu_id=-1,\n              grow_policy=&#x27;depthwise&#x27;, importance_type=None,\n              interaction_constraints=&#x27;&#x27;, learning_rate=0.300000012,\n              max_bin=256, max_cat_threshold=64, max_cat_to_onehot=4,\n              max_delta_step=0, max_depth=6, max_leaves=0, min_child_weight=1,\n              missing=nan, monotone_constraints=&#x27;()&#x27;, n_estimators=100,\n              n_jobs=0, num_parallel_tree=1, predictor=&#x27;auto&#x27;, random_state=0, ...)</pre><b>In a Jupyter environment, please rerun this cell to show the HTML representation or trust the notebook. <br />On GitHub, the HTML representation is unable to render, please try loading this page with nbviewer.org.</b></div><div class=\"sk-container\" hidden><div class=\"sk-item\"><div class=\"sk-estimator sk-toggleable\"><input class=\"sk-toggleable__control sk-hidden--visually\" id=\"sk-estimator-id-2\" type=\"checkbox\" checked><label for=\"sk-estimator-id-2\" class=\"sk-toggleable__label sk-toggleable__label-arrow\">XGBClassifier</label><div class=\"sk-toggleable__content\"><pre>XGBClassifier(base_score=0.5, booster=&#x27;gbtree&#x27;, callbacks=None,\n              colsample_bylevel=1, colsample_bynode=1, colsample_bytree=1,\n              early_stopping_rounds=None, enable_categorical=False,\n              eval_metric=None, feature_types=None, gamma=0, gpu_id=-1,\n              grow_policy=&#x27;depthwise&#x27;, importance_type=None,\n              interaction_constraints=&#x27;&#x27;, learning_rate=0.300000012,\n              max_bin=256, max_cat_threshold=64, max_cat_to_onehot=4,\n              max_delta_step=0, max_depth=6, max_leaves=0, min_child_weight=1,\n              missing=nan, monotone_constraints=&#x27;()&#x27;, n_estimators=100,\n              n_jobs=0, num_parallel_tree=1, predictor=&#x27;auto&#x27;, random_state=0, ...)</pre></div></div></div></div></div>"
     },
     "execution_count": 64,
     "metadata": {},
     "output_type": "execute_result"
    }
   ],
   "source": [
    "model = boruta.model_\n",
    "model.fit(ds_sel.x, ds_sel.y)"
   ],
   "metadata": {
    "collapsed": false
   }
  },
  {
   "cell_type": "code",
   "execution_count": 70,
   "outputs": [
    {
     "name": "stderr",
     "output_type": "stream",
     "text": [
      "ntree_limit is deprecated, use `iteration_range` or model slicing instead.\n"
     ]
    }
   ],
   "source": [
    "explainer = shap.TreeExplainer(model)\n",
    "shap_vs = explainer.shap_values(ds_sel.x, ds_sel.y)\n",
    "imp_vs = np.mean(np.abs(shap_vs), axis=0)"
   ],
   "metadata": {
    "collapsed": false
   }
  },
  {
   "cell_type": "code",
   "execution_count": 71,
   "outputs": [
    {
     "data": {
      "text/plain": "array([2.78003458e-02, 3.30474880e-03, 4.22273064e-03, 4.26997477e-03,\n       2.08926313e-02, 0.00000000e+00, 0.00000000e+00, 1.63884573e-02,\n       1.02229714e-02, 5.04431594e-03, 8.13580584e-03, 0.00000000e+00,\n       4.60334448e-03, 1.84719786e-01, 1.74306203e-02, 1.75376218e-02,\n       2.19746336e-01, 1.48278996e-01, 0.00000000e+00, 0.00000000e+00,\n       0.00000000e+00, 1.66387344e-03, 5.89598827e-02, 8.05656835e-02,\n       3.17157656e-02, 7.69123137e-02, 0.00000000e+00, 0.00000000e+00,\n       0.00000000e+00, 7.03409165e-02, 6.27455637e-02, 0.00000000e+00,\n       0.00000000e+00, 4.71823402e-02, 7.57577568e-02, 4.75610457e-02,\n       0.00000000e+00, 0.00000000e+00, 2.09255260e-03, 3.00644222e-03,\n       5.50829172e-02, 0.00000000e+00, 6.35143667e-02, 1.10375546e-02,\n       6.34095259e-03, 5.48221581e-02, 1.76545568e-02, 0.00000000e+00,\n       2.56536007e+00, 3.35658669e-01, 8.97402018e-02, 1.53745651e-01,\n       6.39048517e-02, 0.00000000e+00, 4.11237702e-02, 7.89283216e-02,\n       1.11896195e-03, 7.15092719e-02, 5.77911735e-02, 1.77132897e-03,\n       3.20564210e-03, 3.99894863e-02, 5.91725623e-03, 2.32647918e-02,\n       0.00000000e+00, 6.04404435e-02, 0.00000000e+00, 0.00000000e+00,\n       1.62485372e-02, 1.37699917e-01, 4.77467962e-02, 1.04429945e-01,\n       2.64384717e-01, 1.07345842e-02, 2.36476818e-03, 2.18666680e-02,\n       1.49084210e-01, 1.14814967e-01, 0.00000000e+00, 2.71425724e-01,\n       0.00000000e+00, 2.25909706e-02, 6.65203016e-03, 0.00000000e+00,\n       5.90074100e-02, 1.31672602e-02, 2.34821796e-01, 6.33501122e-03,\n       1.28050230e-03, 2.57925540e-02, 0.00000000e+00, 3.89596261e-02,\n       0.00000000e+00, 6.72368798e-03, 6.57415576e-03, 4.16426025e-02,\n       7.35071376e-02, 0.00000000e+00, 8.18843208e-03, 7.48396218e-02,\n       5.67176081e-02, 1.09839939e-01, 5.96790798e-02, 7.74225742e-02,\n       1.80766080e-03, 1.25676677e-01, 5.95264137e-03, 6.86820410e-03,\n       0.00000000e+00, 5.09318262e-02, 0.00000000e+00, 5.68596413e-03,\n       1.52532104e-02, 5.11917658e-03, 5.42921573e-02, 5.89897260e-02,\n       3.74688134e-02, 0.00000000e+00, 4.55191620e-02, 2.70474819e-03,\n       0.00000000e+00, 8.84205743e-04, 5.07391274e-01, 1.77949499e-02,\n       0.00000000e+00, 2.04019016e-03, 1.26714930e-01, 2.00439483e-01,\n       7.47823268e-02, 0.00000000e+00], dtype=float32)"
     },
     "execution_count": 71,
     "metadata": {},
     "output_type": "execute_result"
    }
   ],
   "source": [
    "imp_vs"
   ],
   "metadata": {
    "collapsed": false
   }
  },
  {
   "cell_type": "code",
   "execution_count": null,
   "outputs": [],
   "source": [
    "boruta"
   ],
   "metadata": {
    "collapsed": false
   }
  },
  {
   "cell_type": "code",
   "execution_count": 62,
   "outputs": [
    {
     "data": {
      "text/plain": "<shap.explainers._tree.Tree at 0x1712f9300>"
     },
     "execution_count": 62,
     "metadata": {},
     "output_type": "execute_result"
    }
   ],
   "source": [
    "explanations."
   ],
   "metadata": {
    "collapsed": false
   }
  },
  {
   "cell_type": "markdown",
   "source": [
    "### (Optional) 3.1 Finalize the model"
   ],
   "metadata": {
    "collapsed": false
   }
  },
  {
   "cell_type": "code",
   "execution_count": 53,
   "outputs": [],
   "source": [
    "def objective(trial, ds, model) -> float:\n",
    "    params = {\n",
    "        'learning_rate': trial.suggest_float('learning_rate', 0, 1),\n",
    "        'max_depth': trial.suggest_int('max_depth', 4, 16),\n",
    "        'gamma': trial.suggest_float('gamma', 0, 10.0),\n",
    "        'reg_lambda': trial.suggest_float('reg_lambda', 0, 10.0),\n",
    "        'reg_alpha': trial.suggest_float('reg_alpha', 0, 10.0),\n",
    "        'colsample_bytree': trial.suggest_float('colsample_bytree', 0.4, 1.0),\n",
    "        'colsample_bylevel': trial.suggest_float('colsample_bylevel', 0.4, 1.0),\n",
    "        'scale_pos_weight': trial.suggest_float('scale_pos_weight', 0.0, 10.0),\n",
    "    }\n",
    "    # callback = optuna.integration.XGBoostPruningCallback(trial, 'validation_logloss')\n",
    "    params = {**model.get_params(), **params}\n",
    "    model = model.__class__(**params)\n",
    "    return cv(ds, model)"
   ],
   "metadata": {
    "collapsed": false
   }
  },
  {
   "cell_type": "code",
   "execution_count": 39,
   "outputs": [
    {
     "data": {
      "text/plain": "              Feature  Step  Importance Hit  Decision  Threshold\n1708     PFP(p=6,i=3)     9    0.003305   1  Accepted   0.000000\n3008    PFP(p=11,i=1)     9    0.004270   1  Accepted   0.000000\n3108    PFP(p=11,i=2)     9    0.019231   1  Accepted   0.000000\n3908    PFP(p=14,i=1)     9    0.017288   1  Accepted   0.000000\n4012    PFP(p=14,i=2)    13    0.120567   1  Accepted   0.025793\n4708    PFP(p=16,i=3)     9    0.008629   1  Accepted   0.000000\n7008    PFP(p=24,i=2)     9    0.004603   1  Accepted   0.000000\n7208    PFP(p=25,i=1)     9    0.158930   1  Accepted   0.000000\n7912    PFP(p=27,i=2)    13    0.143174   1  Accepted   0.025793\n9708    PFP(p=33,i=2)     9    0.056687   1  Accepted   0.000000\n12308   PFP(p=42,i=1)     9    0.151252   1  Accepted   0.000000\n13708   PFP(p=46,i=3)     9    0.105099   1  Accepted   0.000000\n13808   PFP(p=47,i=1)     9    0.057801   1  Accepted   0.000000\n19908   PFP(p=67,i=2)     9    0.070830   1  Accepted   0.000000\n26908   PFP(p=90,i=3)     9    0.070916   1  Accepted   0.000000\n27508   PFP(p=92,i=3)     9    0.042027   1  Accepted   0.000000\n34408  PFP(p=115,i=3)     9    0.038673   1  Accepted   0.000000\n34808  PFP(p=117,i=1)     9    0.006050   1  Accepted   0.000000\n35308  PFP(p=118,i=3)     9    0.014026   1  Accepted   0.000000\n35608  PFP(p=119,i=3)     9    0.010469   1  Accepted   0.000000\n37208  PFP(p=125,i=1)     9    2.490436   1  Accepted   0.000000\n37308  PFP(p=125,i=2)     9    0.355418   1  Accepted   0.000000\n37808  PFP(p=127,i=1)     9    0.070016   1  Accepted   0.000000\n37908  PFP(p=127,i=2)     9    0.154051   1  Accepted   0.000000\n38008  PFP(p=127,i=3)     9    0.158491   1  Accepted   0.000000\n42108  PFP(p=141,i=2)     9    0.001771   1  Accepted   0.000000\n46208  PFP(p=155,i=1)     9    0.003737   1  Accepted   0.000000\n46908  PFP(p=157,i=2)     9    0.085543   1  Accepted   0.000000\n47508  PFP(p=159,i=2)     9    0.009177   1  Accepted   0.000000\n47608  PFP(p=159,i=3)     9    0.109789   1  Accepted   0.000000\n47908  PFP(p=160,i=3)     9    0.086797   1  Accepted   0.000000\n48008  PFP(p=161,i=1)     9    0.213096   1  Accepted   0.000000\n48408  PFP(p=162,i=2)     9    0.010515   1  Accepted   0.000000\n48512  PFP(p=162,i=3)    13    0.160403   1  Accepted   0.025793\n48608  PFP(p=163,i=1)     9    0.151360   1  Accepted   0.000000\n50208  PFP(p=168,i=2)     9    0.248682   1  Accepted   0.000000\n50708  PFP(p=170,i=1)     9    0.036191   1  Accepted   0.000000\n51508  PFP(p=172,i=3)     9    0.006489   1  Accepted   0.000000\n53108  PFP(p=178,i=1)     9    0.248152   1  Accepted   0.000000\n53608  PFP(p=179,i=3)     9    0.001281   1  Accepted   0.000000\n54008  PFP(p=181,i=1)     9    0.019421   1  Accepted   0.000000\n55408  PFP(p=185,i=3)     9    0.004900   1  Accepted   0.000000\n58108  PFP(p=194,i=3)     9    0.009937   1  Accepted   0.000000\n59808  PFP(p=200,i=2)     9    0.094940   1  Accepted   0.000000\n67812  PFP(p=227,i=1)    13    0.182678   1  Accepted   0.025793\n72108  PFP(p=241,i=2)     9    0.028569   1  Accepted   0.000000\n72408  PFP(p=242,i=2)     9    0.049425   1  Accepted   0.000000\n73208  PFP(p=245,i=1)     9    0.006064   1  Accepted   0.000000\n73308  PFP(p=245,i=2)     9    0.502177   1  Accepted   0.000000\n73408  PFP(p=245,i=3)     9    0.014535   1  Accepted   0.000000\n74908  PFP(p=250,i=3)     9    0.154912   1  Accepted   0.000000\n76308  PFP(p=255,i=2)     9    0.108852   1  Accepted   0.000000\n76412  PFP(p=255,i=3)    13    0.319671   1  Accepted   0.025793",
      "text/html": "<div>\n<style scoped>\n    .dataframe tbody tr th:only-of-type {\n        vertical-align: middle;\n    }\n\n    .dataframe tbody tr th {\n        vertical-align: top;\n    }\n\n    .dataframe thead th {\n        text-align: right;\n    }\n</style>\n<table border=\"1\" class=\"dataframe\">\n  <thead>\n    <tr style=\"text-align: right;\">\n      <th></th>\n      <th>Feature</th>\n      <th>Step</th>\n      <th>Importance</th>\n      <th>Hit</th>\n      <th>Decision</th>\n      <th>Threshold</th>\n    </tr>\n  </thead>\n  <tbody>\n    <tr>\n      <th>1708</th>\n      <td>PFP(p=6,i=3)</td>\n      <td>9</td>\n      <td>0.003305</td>\n      <td>1</td>\n      <td>Accepted</td>\n      <td>0.000000</td>\n    </tr>\n    <tr>\n      <th>3008</th>\n      <td>PFP(p=11,i=1)</td>\n      <td>9</td>\n      <td>0.004270</td>\n      <td>1</td>\n      <td>Accepted</td>\n      <td>0.000000</td>\n    </tr>\n    <tr>\n      <th>3108</th>\n      <td>PFP(p=11,i=2)</td>\n      <td>9</td>\n      <td>0.019231</td>\n      <td>1</td>\n      <td>Accepted</td>\n      <td>0.000000</td>\n    </tr>\n    <tr>\n      <th>3908</th>\n      <td>PFP(p=14,i=1)</td>\n      <td>9</td>\n      <td>0.017288</td>\n      <td>1</td>\n      <td>Accepted</td>\n      <td>0.000000</td>\n    </tr>\n    <tr>\n      <th>4012</th>\n      <td>PFP(p=14,i=2)</td>\n      <td>13</td>\n      <td>0.120567</td>\n      <td>1</td>\n      <td>Accepted</td>\n      <td>0.025793</td>\n    </tr>\n    <tr>\n      <th>4708</th>\n      <td>PFP(p=16,i=3)</td>\n      <td>9</td>\n      <td>0.008629</td>\n      <td>1</td>\n      <td>Accepted</td>\n      <td>0.000000</td>\n    </tr>\n    <tr>\n      <th>7008</th>\n      <td>PFP(p=24,i=2)</td>\n      <td>9</td>\n      <td>0.004603</td>\n      <td>1</td>\n      <td>Accepted</td>\n      <td>0.000000</td>\n    </tr>\n    <tr>\n      <th>7208</th>\n      <td>PFP(p=25,i=1)</td>\n      <td>9</td>\n      <td>0.158930</td>\n      <td>1</td>\n      <td>Accepted</td>\n      <td>0.000000</td>\n    </tr>\n    <tr>\n      <th>7912</th>\n      <td>PFP(p=27,i=2)</td>\n      <td>13</td>\n      <td>0.143174</td>\n      <td>1</td>\n      <td>Accepted</td>\n      <td>0.025793</td>\n    </tr>\n    <tr>\n      <th>9708</th>\n      <td>PFP(p=33,i=2)</td>\n      <td>9</td>\n      <td>0.056687</td>\n      <td>1</td>\n      <td>Accepted</td>\n      <td>0.000000</td>\n    </tr>\n    <tr>\n      <th>12308</th>\n      <td>PFP(p=42,i=1)</td>\n      <td>9</td>\n      <td>0.151252</td>\n      <td>1</td>\n      <td>Accepted</td>\n      <td>0.000000</td>\n    </tr>\n    <tr>\n      <th>13708</th>\n      <td>PFP(p=46,i=3)</td>\n      <td>9</td>\n      <td>0.105099</td>\n      <td>1</td>\n      <td>Accepted</td>\n      <td>0.000000</td>\n    </tr>\n    <tr>\n      <th>13808</th>\n      <td>PFP(p=47,i=1)</td>\n      <td>9</td>\n      <td>0.057801</td>\n      <td>1</td>\n      <td>Accepted</td>\n      <td>0.000000</td>\n    </tr>\n    <tr>\n      <th>19908</th>\n      <td>PFP(p=67,i=2)</td>\n      <td>9</td>\n      <td>0.070830</td>\n      <td>1</td>\n      <td>Accepted</td>\n      <td>0.000000</td>\n    </tr>\n    <tr>\n      <th>26908</th>\n      <td>PFP(p=90,i=3)</td>\n      <td>9</td>\n      <td>0.070916</td>\n      <td>1</td>\n      <td>Accepted</td>\n      <td>0.000000</td>\n    </tr>\n    <tr>\n      <th>27508</th>\n      <td>PFP(p=92,i=3)</td>\n      <td>9</td>\n      <td>0.042027</td>\n      <td>1</td>\n      <td>Accepted</td>\n      <td>0.000000</td>\n    </tr>\n    <tr>\n      <th>34408</th>\n      <td>PFP(p=115,i=3)</td>\n      <td>9</td>\n      <td>0.038673</td>\n      <td>1</td>\n      <td>Accepted</td>\n      <td>0.000000</td>\n    </tr>\n    <tr>\n      <th>34808</th>\n      <td>PFP(p=117,i=1)</td>\n      <td>9</td>\n      <td>0.006050</td>\n      <td>1</td>\n      <td>Accepted</td>\n      <td>0.000000</td>\n    </tr>\n    <tr>\n      <th>35308</th>\n      <td>PFP(p=118,i=3)</td>\n      <td>9</td>\n      <td>0.014026</td>\n      <td>1</td>\n      <td>Accepted</td>\n      <td>0.000000</td>\n    </tr>\n    <tr>\n      <th>35608</th>\n      <td>PFP(p=119,i=3)</td>\n      <td>9</td>\n      <td>0.010469</td>\n      <td>1</td>\n      <td>Accepted</td>\n      <td>0.000000</td>\n    </tr>\n    <tr>\n      <th>37208</th>\n      <td>PFP(p=125,i=1)</td>\n      <td>9</td>\n      <td>2.490436</td>\n      <td>1</td>\n      <td>Accepted</td>\n      <td>0.000000</td>\n    </tr>\n    <tr>\n      <th>37308</th>\n      <td>PFP(p=125,i=2)</td>\n      <td>9</td>\n      <td>0.355418</td>\n      <td>1</td>\n      <td>Accepted</td>\n      <td>0.000000</td>\n    </tr>\n    <tr>\n      <th>37808</th>\n      <td>PFP(p=127,i=1)</td>\n      <td>9</td>\n      <td>0.070016</td>\n      <td>1</td>\n      <td>Accepted</td>\n      <td>0.000000</td>\n    </tr>\n    <tr>\n      <th>37908</th>\n      <td>PFP(p=127,i=2)</td>\n      <td>9</td>\n      <td>0.154051</td>\n      <td>1</td>\n      <td>Accepted</td>\n      <td>0.000000</td>\n    </tr>\n    <tr>\n      <th>38008</th>\n      <td>PFP(p=127,i=3)</td>\n      <td>9</td>\n      <td>0.158491</td>\n      <td>1</td>\n      <td>Accepted</td>\n      <td>0.000000</td>\n    </tr>\n    <tr>\n      <th>42108</th>\n      <td>PFP(p=141,i=2)</td>\n      <td>9</td>\n      <td>0.001771</td>\n      <td>1</td>\n      <td>Accepted</td>\n      <td>0.000000</td>\n    </tr>\n    <tr>\n      <th>46208</th>\n      <td>PFP(p=155,i=1)</td>\n      <td>9</td>\n      <td>0.003737</td>\n      <td>1</td>\n      <td>Accepted</td>\n      <td>0.000000</td>\n    </tr>\n    <tr>\n      <th>46908</th>\n      <td>PFP(p=157,i=2)</td>\n      <td>9</td>\n      <td>0.085543</td>\n      <td>1</td>\n      <td>Accepted</td>\n      <td>0.000000</td>\n    </tr>\n    <tr>\n      <th>47508</th>\n      <td>PFP(p=159,i=2)</td>\n      <td>9</td>\n      <td>0.009177</td>\n      <td>1</td>\n      <td>Accepted</td>\n      <td>0.000000</td>\n    </tr>\n    <tr>\n      <th>47608</th>\n      <td>PFP(p=159,i=3)</td>\n      <td>9</td>\n      <td>0.109789</td>\n      <td>1</td>\n      <td>Accepted</td>\n      <td>0.000000</td>\n    </tr>\n    <tr>\n      <th>47908</th>\n      <td>PFP(p=160,i=3)</td>\n      <td>9</td>\n      <td>0.086797</td>\n      <td>1</td>\n      <td>Accepted</td>\n      <td>0.000000</td>\n    </tr>\n    <tr>\n      <th>48008</th>\n      <td>PFP(p=161,i=1)</td>\n      <td>9</td>\n      <td>0.213096</td>\n      <td>1</td>\n      <td>Accepted</td>\n      <td>0.000000</td>\n    </tr>\n    <tr>\n      <th>48408</th>\n      <td>PFP(p=162,i=2)</td>\n      <td>9</td>\n      <td>0.010515</td>\n      <td>1</td>\n      <td>Accepted</td>\n      <td>0.000000</td>\n    </tr>\n    <tr>\n      <th>48512</th>\n      <td>PFP(p=162,i=3)</td>\n      <td>13</td>\n      <td>0.160403</td>\n      <td>1</td>\n      <td>Accepted</td>\n      <td>0.025793</td>\n    </tr>\n    <tr>\n      <th>48608</th>\n      <td>PFP(p=163,i=1)</td>\n      <td>9</td>\n      <td>0.151360</td>\n      <td>1</td>\n      <td>Accepted</td>\n      <td>0.000000</td>\n    </tr>\n    <tr>\n      <th>50208</th>\n      <td>PFP(p=168,i=2)</td>\n      <td>9</td>\n      <td>0.248682</td>\n      <td>1</td>\n      <td>Accepted</td>\n      <td>0.000000</td>\n    </tr>\n    <tr>\n      <th>50708</th>\n      <td>PFP(p=170,i=1)</td>\n      <td>9</td>\n      <td>0.036191</td>\n      <td>1</td>\n      <td>Accepted</td>\n      <td>0.000000</td>\n    </tr>\n    <tr>\n      <th>51508</th>\n      <td>PFP(p=172,i=3)</td>\n      <td>9</td>\n      <td>0.006489</td>\n      <td>1</td>\n      <td>Accepted</td>\n      <td>0.000000</td>\n    </tr>\n    <tr>\n      <th>53108</th>\n      <td>PFP(p=178,i=1)</td>\n      <td>9</td>\n      <td>0.248152</td>\n      <td>1</td>\n      <td>Accepted</td>\n      <td>0.000000</td>\n    </tr>\n    <tr>\n      <th>53608</th>\n      <td>PFP(p=179,i=3)</td>\n      <td>9</td>\n      <td>0.001281</td>\n      <td>1</td>\n      <td>Accepted</td>\n      <td>0.000000</td>\n    </tr>\n    <tr>\n      <th>54008</th>\n      <td>PFP(p=181,i=1)</td>\n      <td>9</td>\n      <td>0.019421</td>\n      <td>1</td>\n      <td>Accepted</td>\n      <td>0.000000</td>\n    </tr>\n    <tr>\n      <th>55408</th>\n      <td>PFP(p=185,i=3)</td>\n      <td>9</td>\n      <td>0.004900</td>\n      <td>1</td>\n      <td>Accepted</td>\n      <td>0.000000</td>\n    </tr>\n    <tr>\n      <th>58108</th>\n      <td>PFP(p=194,i=3)</td>\n      <td>9</td>\n      <td>0.009937</td>\n      <td>1</td>\n      <td>Accepted</td>\n      <td>0.000000</td>\n    </tr>\n    <tr>\n      <th>59808</th>\n      <td>PFP(p=200,i=2)</td>\n      <td>9</td>\n      <td>0.094940</td>\n      <td>1</td>\n      <td>Accepted</td>\n      <td>0.000000</td>\n    </tr>\n    <tr>\n      <th>67812</th>\n      <td>PFP(p=227,i=1)</td>\n      <td>13</td>\n      <td>0.182678</td>\n      <td>1</td>\n      <td>Accepted</td>\n      <td>0.025793</td>\n    </tr>\n    <tr>\n      <th>72108</th>\n      <td>PFP(p=241,i=2)</td>\n      <td>9</td>\n      <td>0.028569</td>\n      <td>1</td>\n      <td>Accepted</td>\n      <td>0.000000</td>\n    </tr>\n    <tr>\n      <th>72408</th>\n      <td>PFP(p=242,i=2)</td>\n      <td>9</td>\n      <td>0.049425</td>\n      <td>1</td>\n      <td>Accepted</td>\n      <td>0.000000</td>\n    </tr>\n    <tr>\n      <th>73208</th>\n      <td>PFP(p=245,i=1)</td>\n      <td>9</td>\n      <td>0.006064</td>\n      <td>1</td>\n      <td>Accepted</td>\n      <td>0.000000</td>\n    </tr>\n    <tr>\n      <th>73308</th>\n      <td>PFP(p=245,i=2)</td>\n      <td>9</td>\n      <td>0.502177</td>\n      <td>1</td>\n      <td>Accepted</td>\n      <td>0.000000</td>\n    </tr>\n    <tr>\n      <th>73408</th>\n      <td>PFP(p=245,i=3)</td>\n      <td>9</td>\n      <td>0.014535</td>\n      <td>1</td>\n      <td>Accepted</td>\n      <td>0.000000</td>\n    </tr>\n    <tr>\n      <th>74908</th>\n      <td>PFP(p=250,i=3)</td>\n      <td>9</td>\n      <td>0.154912</td>\n      <td>1</td>\n      <td>Accepted</td>\n      <td>0.000000</td>\n    </tr>\n    <tr>\n      <th>76308</th>\n      <td>PFP(p=255,i=2)</td>\n      <td>9</td>\n      <td>0.108852</td>\n      <td>1</td>\n      <td>Accepted</td>\n      <td>0.000000</td>\n    </tr>\n    <tr>\n      <th>76412</th>\n      <td>PFP(p=255,i=3)</td>\n      <td>13</td>\n      <td>0.319671</td>\n      <td>1</td>\n      <td>Accepted</td>\n      <td>0.025793</td>\n    </tr>\n  </tbody>\n</table>\n</div>"
     },
     "execution_count": 39,
     "metadata": {},
     "output_type": "execute_result"
    }
   ],
   "source": [
    "hist"
   ],
   "metadata": {
    "collapsed": false
   }
  },
  {
   "cell_type": "code",
   "execution_count": 75,
   "outputs": [
    {
     "name": "stderr",
     "output_type": "stream",
     "text": [
      "[autoreload of eBoruta.containers failed: Traceback (most recent call last):\n",
      "  File \"/Users/ivanreveguk/conda/miniconda3/envs/boruta/lib/python3.10/site-packages/IPython/extensions/autoreload.py\", line 261, in check\n",
      "    superreload(m, reload, self.old_objects)\n",
      "  File \"/Users/ivanreveguk/conda/miniconda3/envs/boruta/lib/python3.10/site-packages/IPython/extensions/autoreload.py\", line 459, in superreload\n",
      "    module = reload(module)\n",
      "  File \"/Users/ivanreveguk/conda/miniconda3/envs/boruta/lib/python3.10/importlib/__init__.py\", line 169, in reload\n",
      "    _bootstrap._exec(spec, module)\n",
      "  File \"<frozen importlib._bootstrap>\", line 619, in _exec\n",
      "  File \"<frozen importlib._bootstrap_external>\", line 879, in exec_module\n",
      "  File \"<frozen importlib._bootstrap_external>\", line 1017, in get_code\n",
      "  File \"<frozen importlib._bootstrap_external>\", line 947, in source_to_code\n",
      "  File \"<frozen importlib._bootstrap>\", line 241, in _call_with_frames_removed\n",
      "  File \"/Users/ivanreveguk/Projects/eBoruta/eBoruta/containers.py\", line 206\n",
      "    case [step, ]\n",
      "                 ^\n",
      "SyntaxError: expected ':'\n",
      "]\n"
     ]
    }
   ],
   "source": [
    "class A:\n",
    "    def __getitem__(self, item):\n",
    "        print(item)\n",
    "        print(type(item))"
   ],
   "metadata": {
    "collapsed": false
   }
  },
  {
   "cell_type": "code",
   "execution_count": 87,
   "outputs": [],
   "source": [
    "dec = features.dec_history.iloc[5].values"
   ],
   "metadata": {
    "collapsed": false
   }
  },
  {
   "cell_type": "code",
   "execution_count": 88,
   "outputs": [
    {
     "data": {
      "text/plain": "array([0, 0, 0, 0, 0, 0, 0, 0, 0, 0, 0, 0, 0, 0, 0, 0, 0, 0, 0, 0, 0, 0,\n       0, 0, 0, 0, 0, 0, 0, 0, 0, 0, 0, 0, 0, 0, 0, 0, 0, 0, 0, 0, 0, 0,\n       0, 0, 0, 0, 0, 0, 0, 0, 0, 0, 0, 0, 0, 0, 0, 0, 0, 0, 0, 0, 0, 0,\n       0, 0, 0, 0, 0, 0, 0, 0, 0, 0, 0, 0, 0, 0, 0, 0, 0, 0, 0, 0, 0, 0,\n       0, 0, 0, 0, 0, 0, 0, 0, 0, 0, 0, 0, 0, 0, 0, 0, 0, 0, 0, 0, 0, 0,\n       0, 0, 0, 0, 0, 0, 0, 0, 0, 0, 0, 0, 0, 0, 0, 0, 0, 0, 0, 0, 0, 0,\n       0, 0, 0, 0, 0, 0, 0, 0, 0, 0, 0, 0, 0, 0, 0, 0, 0, 0, 0, 0, 0, 0,\n       0, 0, 0, 0, 0, 0, 0, 0, 0, 0, 0, 0, 0, 0, 0, 0, 0, 0, 0, 0, 0, 0,\n       0, 0, 0, 0, 0, 0, 0, 0, 0, 0, 0, 0, 0, 0, 0, 0, 0, 0, 0, 0, 0, 0,\n       0, 0, 0, 0, 0, 0, 0, 0, 0, 0, 0, 0, 0, 0, 0, 0, 0, 0, 0, 0, 0, 0,\n       0, 0, 0, 0, 0, 0, 0, 0, 0, 0, 0, 0, 0, 0, 0, 0, 0, 0, 0, 0, 0, 0,\n       0, 0, 0, 0, 0, 0, 0, 0, 0, 0, 0, 0, 0, 0, 0, 0, 0, 0, 0, 0, 0, 0,\n       0, 0, 0, 0, 0, 0, 0, 0, 0, 0, 0, 0, 0, 0, 0, 0, 0, 0, 0, 0, 0, 0,\n       0, 0, 0, 0, 0, 0, 0, 0, 0, 0, 0, 0, 0, 0, 0, 0, 0, 0, 0, 0, 0, 0,\n       0, 0, 0, 0, 0, 0, 0, 0, 0, 0, 0, 0, 0, 0, 0, 0, 0, 0, 0, 0, 0, 0,\n       0, 0, 0, 0, 0, 0, 0, 0, 0, 0, 0, 0, 0, 0, 0, 0, 0, 0, 0, 0, 0, 0,\n       0, 0, 0, 0, 0, 0, 0, 0, 0, 0, 0, 0, 0, 0, 0, 0, 0, 0, 0, 0, 0, 0,\n       0, 0, 0, 0, 0, 0, 0, 0, 0, 0, 0, 0, 0, 0, 0, 0, 0, 0, 0, 0, 0, 0,\n       0, 0, 0, 0, 0, 0, 0, 0, 0, 0, 0, 0, 0, 0, 0, 0, 0, 0, 0, 0, 0, 0,\n       0, 0, 0, 0, 0, 0, 0, 0, 0, 0, 0, 0, 0, 0, 0, 0, 0, 0, 0, 0, 0, 0,\n       0, 0, 0, 0, 0, 0, 0, 0, 0, 0, 0, 0, 0, 0, 0, 0, 0, 0, 0, 0, 0, 0,\n       0, 0, 0, 0, 0, 0, 0, 0, 0, 0, 0, 0, 0, 0, 0, 0, 0, 0, 0, 0, 0, 0,\n       0, 0, 0, 0, 0, 0, 0, 0, 0, 0, 0, 0, 0, 0, 0, 0, 0, 0, 0, 0, 0, 0,\n       0, 0, 0, 0, 0, 0, 0, 0, 0, 0, 0, 0, 0, 0, 0, 0, 0, 0, 0, 0, 0, 0,\n       0, 0, 0, 0, 0, 0, 0, 0, 0, 0, 0, 0, 0, 0, 0, 0, 0, 0, 0, 0, 0, 0,\n       0, 0, 0, 0, 0, 0, 0, 0, 0, 0, 0, 0, 0, 0, 0, 0, 0, 0, 0, 0, 0, 0,\n       0, 0, 0, 0, 0, 0, 0, 0, 0, 0, 0, 0, 0, 0, 0, 0, 0, 0, 0, 0, 0, 0,\n       0, 0, 0, 0, 0, 0, 0, 0, 0, 0, 0, 0, 0, 0, 0, 0, 0, 0, 0, 0, 0, 0,\n       0, 0, 0, 0, 0, 0, 0, 0, 0, 0, 0, 0, 0, 0, 0, 0, 0, 0, 0, 0, 0, 0,\n       0, 0, 0, 0, 0, 0, 0, 0, 0, 0, 0, 0, 0, 0, 0, 0, 0, 0, 0, 0, 0, 0,\n       0, 0, 0, 0, 0, 0, 0, 0, 0, 0, 0, 0, 0, 0, 0, 0, 0, 0, 0, 0, 0, 0,\n       0, 0, 0, 0, 0, 0, 0, 0, 0, 0, 0, 0, 0, 0, 0, 0, 0, 0, 0, 0, 0, 0,\n       0, 0, 0, 0, 0, 0, 0, 0, 0, 0, 0, 0, 0, 0, 0, 0, 0, 0, 0, 0, 0, 0,\n       0, 0, 0, 0, 0, 0, 0, 0, 0, 0, 0, 0, 0, 0, 0, 0, 0, 0, 0, 0, 0, 0,\n       0, 0, 0, 0, 0, 0, 0, 0, 0, 0, 0, 0, 0, 0, 0, 0, 0, 0, 0, 0, 0, 0,\n       0, 0, 0, 0, 0, 0, 0, 0, 0, 0, 0, 0, 0, 0, 0, 0, 0, 0, 0, 0, 0, 0],\n      dtype=object)"
     },
     "execution_count": 88,
     "metadata": {},
     "output_type": "execute_result"
    }
   ],
   "source": [
    "dec"
   ],
   "metadata": {
    "collapsed": false
   }
  },
  {
   "cell_type": "code",
   "execution_count": 95,
   "outputs": [
    {
     "data": {
      "text/plain": "   Y_1  Y_2\n0    0    1\n1    2    3\n2    4    5\n3    6    7\n4    8    9",
      "text/html": "<div>\n<style scoped>\n    .dataframe tbody tr th:only-of-type {\n        vertical-align: middle;\n    }\n\n    .dataframe tbody tr th {\n        vertical-align: top;\n    }\n\n    .dataframe thead th {\n        text-align: right;\n    }\n</style>\n<table border=\"1\" class=\"dataframe\">\n  <thead>\n    <tr style=\"text-align: right;\">\n      <th></th>\n      <th>Y_1</th>\n      <th>Y_2</th>\n    </tr>\n  </thead>\n  <tbody>\n    <tr>\n      <th>0</th>\n      <td>0</td>\n      <td>1</td>\n    </tr>\n    <tr>\n      <th>1</th>\n      <td>2</td>\n      <td>3</td>\n    </tr>\n    <tr>\n      <th>2</th>\n      <td>4</td>\n      <td>5</td>\n    </tr>\n    <tr>\n      <th>3</th>\n      <td>6</td>\n      <td>7</td>\n    </tr>\n    <tr>\n      <th>4</th>\n      <td>8</td>\n      <td>9</td>\n    </tr>\n  </tbody>\n</table>\n</div>"
     },
     "execution_count": 95,
     "metadata": {},
     "output_type": "execute_result"
    }
   ],
   "source": [
    "y = np.arange(10).reshape((5, 2))\n",
    "pd.DataFrame(\n",
    "    y, columns=(\n",
    "        ['Y']\n",
    "        if len(y.shape) == 1\n",
    "        else [f'Y_{i}' for i in range(1, y.shape[1] + 1)]\n",
    "    )\n",
    ")"
   ],
   "metadata": {
    "collapsed": false
   }
  },
  {
   "cell_type": "code",
   "execution_count": null,
   "outputs": [],
   "source": [],
   "metadata": {
    "collapsed": false
   }
  }
 ],
 "metadata": {
  "kernelspec": {
   "display_name": "Python 3 (ipykernel)",
   "language": "python",
   "name": "python3"
  },
  "language_info": {
   "codemirror_mode": {
    "name": "ipython",
    "version": 3
   },
   "file_extension": ".py",
   "mimetype": "text/x-python",
   "name": "python",
   "nbconvert_exporter": "python",
   "pygments_lexer": "ipython3",
   "version": "3.10.8"
  }
 },
 "nbformat": 4,
 "nbformat_minor": 1
}
