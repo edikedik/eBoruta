{
 "cells": [
  {
   "cell_type": "markdown",
   "metadata": {},
   "source": [
    "[![Colab](https://colab.research.google.com/assets/colab-badge.svg)](https://colab.research.google.com/github/edikedik/eBoruta/blob/master/notebooks/sequence_determinants_tutorial.ipynb)"
   ]
  },
  {
   "cell_type": "markdown",
   "metadata": {},
   "source": [
    "# Finding STk vs. Tk sequence determinants\n",
    "\n",
    "In this example, we'll tackle a problem of multiple sequence alignment (MSA)\n",
    "sequences' classification.\n",
    "\n",
    "[Protein kinases](https://en.wikipedia.org/wiki/Protein_kinase) (PKs), or phosphate transferases, are regulatory enzymes ubiquitous across all major known taxae. They catalyze transferring of phosphate moieties\n",
    "from an ATP molecule to the carboxylic group of an amino acid residue. This changes physicochemical properties of a target protein, altering it's overall behavior and functionality. Thus, they act as molecular controllers, deeply\n",
    "embedded into regulating mechanisms governing complex cellular machinery.\n",
    "\n",
    "Over the course of evolution, along with substrate specificity, PKs developed a preference towards certain amino acid residues (Fig. 1). The principal group of PKs that likely appeared initially were PKs transferring phosphate to serine and threonine residues (STk). Later, another group emerged, specializing towards the tyrosine residue (Tk).\n",
    "\n",
    "| ![Phosphorylation](../fig/Phosphorylation.png \"Phosphorylation reaction\") |\n",
    "|:--:|\n",
    "| <b> Fig. 1. Phosphorylation of Ser/Thr and Tyr. Notice the dissimilarities between these two groups </b>|\n",
    "\n",
    "What could be the sequence differences enabling such a specialization? Could we find them using features selection machinery?\n",
    "\n",
    "In 1994, [Juswinder performed](https://pubmed.ncbi.nlm.nih.gov/7971947/) a conservation-based analysis of STk and Tk sequences (use [this link](https://drive.google.com/file/d/19uvEatJwQ4ZMmdTeMpFj-QM7AnDkhTiR/view?usp=share_link) for a full paper). He discovered several MSA positions that, as structural evidence suggests, exploit physicochemical differences (e.g., volume) between Ser/Thr and Tyr. For this, he used a scoring function that would spot positions with substantial but different conservation between STk and Tk sequences in the same multiple sequence alignment.\n",
    "\n",
    "---\n",
    "\n",
    "| ![PK domains alignment](../fig/juswinderA.png \"Juswinder et al. MSA (A)\") |\n",
    "|:--:|\n",
    "| <b> Fig. 2. Positions of STk ad Tk sub-alignment (note 201 and 203) </b> |\n",
    "\n",
    "---\n",
    "\n",
    "| ![PK domains alignment](../fig/juswinderB.png \"Juswinder et al. MSA (B)\") |\n",
    "|:--:|\n",
    "| <b> Fig. 2. Positions of STk and TK sub-alignment part2 (note 168 and 170) </b> |\n",
    "\n",
    "---\n",
    "\n",
    "Here, we'll attempt to recover positions highlighted by Juswinder on a larger\n",
    "MSA built from reviewed [UniProt](https://www.uniprot.org) sequences."
   ]
  },
  {
   "cell_type": "markdown",
   "metadata": {},
   "source": [
    "## 1. Install dependencies"
   ]
  },
  {
   "cell_type": "code",
   "execution_count": 1,
   "metadata": {},
   "outputs": [],
   "source": [
    "# ! pip install lXtractor eBoruta ipywidgets xgboost optuna"
   ]
  },
  {
   "cell_type": "markdown",
   "metadata": {},
   "source": [
    "## 2. Prepare data"
   ]
  },
  {
   "cell_type": "code",
   "execution_count": 2,
   "metadata": {
    "collapsed": false,
    "jupyter": {
     "outputs_hidden": false
    }
   },
   "outputs": [],
   "source": [
    "import gzip\n",
    "import re\n",
    "from collections import Counter\n",
    "from io import StringIO, BytesIO\n",
    "from itertools import chain\n",
    "\n",
    "import pandas as pd\n",
    "from lXtractor.core.chain import ChainSequence, ChainList\n",
    "from lXtractor.ext.hmm import PyHMMer\n",
    "from lXtractor.util.io import fetch_text\n",
    "from lXtractor.variables.base import ProtFP\n",
    "from lXtractor.variables.calculator import GenericCalculator\n",
    "from lXtractor.variables.manager import Manager\n",
    "from lXtractor.variables.sequential import PFP\n",
    "from more_itertools import consume"
   ]
  },
  {
   "cell_type": "markdown",
   "metadata": {},
   "source": [
    "### 2.1 Download and parse initial sequences and profile"
   ]
  },
  {
   "cell_type": "markdown",
   "metadata": {},
   "source": [
    "The UniProt link is generated from the search API.\n",
    "We are taking all reviewed proteins (Swiss-Prot database) belonging to the PK superfamily.\n",
    "\n",
    "Link to Pfam points to the _PF00069_ -- a protein kinase domain HMM profile."
   ]
  },
  {
   "cell_type": "code",
   "execution_count": 3,
   "metadata": {
    "collapsed": false,
    "jupyter": {
     "outputs_hidden": false
    }
   },
   "outputs": [],
   "source": [
    "LINK_UNIPROT = \"https://rest.uniprot.org/uniprotkb/stream?fields=accession%2Cid%2Csequence%2Cft_domain%2Cprotein_families&format=tsv&query=%28%28family%3A%22protein%20kinase%20superfamily%22%29%29%20AND%20%28reviewed%3Atrue%29\"\n",
    "LINK_PFAM = 'https://www.ebi.ac.uk/interpro/wwwapi//entry/pfam/PF00069?annotation=hmm'"
   ]
  },
  {
   "cell_type": "code",
   "execution_count": 4,
   "metadata": {
    "collapsed": false,
    "jupyter": {
     "outputs_hidden": false
    }
   },
   "outputs": [],
   "source": [
    "df_up = pd.read_csv(StringIO(fetch_text(LINK_UNIPROT)), sep='\\t')"
   ]
  },
  {
   "cell_type": "code",
   "execution_count": 5,
   "metadata": {
    "collapsed": false,
    "jupyter": {
     "outputs_hidden": false
    }
   },
   "outputs": [
    {
     "data": {
      "text/html": [
       "<div>\n",
       "<style scoped>\n",
       "    .dataframe tbody tr th:only-of-type {\n",
       "        vertical-align: middle;\n",
       "    }\n",
       "\n",
       "    .dataframe tbody tr th {\n",
       "        vertical-align: top;\n",
       "    }\n",
       "\n",
       "    .dataframe thead th {\n",
       "        text-align: right;\n",
       "    }\n",
       "</style>\n",
       "<table border=\"1\" class=\"dataframe\">\n",
       "  <thead>\n",
       "    <tr style=\"text-align: right;\">\n",
       "      <th></th>\n",
       "      <th>Entry</th>\n",
       "      <th>Entry Name</th>\n",
       "      <th>Sequence</th>\n",
       "      <th>Domain [FT]</th>\n",
       "      <th>Protein families</th>\n",
       "    </tr>\n",
       "  </thead>\n",
       "  <tbody>\n",
       "    <tr>\n",
       "      <th>0</th>\n",
       "      <td>Error encountered when streaming data. Please ...</td>\n",
       "      <td>NaN</td>\n",
       "      <td>NaN</td>\n",
       "      <td>NaN</td>\n",
       "      <td>NaN</td>\n",
       "    </tr>\n",
       "  </tbody>\n",
       "</table>\n",
       "</div>"
      ],
      "text/plain": [
       "                                               Entry  Entry Name  Sequence  \\\n",
       "0  Error encountered when streaming data. Please ...         NaN       NaN   \n",
       "\n",
       "   Domain [FT]  Protein families  \n",
       "0          NaN               NaN  "
      ]
     },
     "execution_count": 5,
     "metadata": {},
     "output_type": "execute_result"
    }
   ],
   "source": [
    "df_up.head()"
   ]
  },
  {
   "cell_type": "markdown",
   "metadata": {},
   "source": [
    "Initialize profile as `PyHMMer` object internally interfacing homonimous library.\n",
    "`PyHMMer` is an annotator class, annotating (subsetting) `ChainSequence`s using\n",
    "HMM-derived domain boundaries."
   ]
  },
  {
   "cell_type": "code",
   "execution_count": 6,
   "metadata": {
    "collapsed": false,
    "jupyter": {
     "outputs_hidden": false
    }
   },
   "outputs": [],
   "source": [
    "prof = PyHMMer(BytesIO(gzip.decompress(\n",
    "    fetch_text(LINK_PFAM, decode=False)\n",
    ")))"
   ]
  },
  {
   "cell_type": "markdown",
   "metadata": {},
   "source": [
    "### 2.2 Convert sequences\n",
    "\n",
    "Initialize `ChainSequence`s and wrap them into the `ChainList`.\n",
    "The latter simplifies working with a group of `Chain*`-type objects.\n",
    "To learn more, check [lXtractor documentation](https://lxtractor.readthedocs.io/en/latest/)."
   ]
  },
  {
   "cell_type": "code",
   "execution_count": 7,
   "metadata": {
    "collapsed": false,
    "jupyter": {
     "outputs_hidden": false
    }
   },
   "outputs": [],
   "source": [
    "def wrap_into_chain_seq(row):\n",
    "    \"\"\"\n",
    "    :param row: DataFrame row.\n",
    "    :return: chain sequence using \"Sequence\" field to obtain a full\n",
    "        protein sequence and \"Entry Name\" for its name.\n",
    "    \"\"\"\n",
    "    fam_df = row['Protein families']\n",
    "    family = 'other'\n",
    "    if 'protein kinase family' in fam_df:\n",
    "        if 'Ser/Thr' in fam_df:\n",
    "            family = 'STk'\n",
    "        elif 'Tyr' in fam_df:\n",
    "            family = 'Tk'\n",
    "\n",
    "    return ChainSequence.from_string(\n",
    "        row['Sequence'], name=row['Entry Name'], meta={'Family': family}\n",
    "    )"
   ]
  },
  {
   "cell_type": "code",
   "execution_count": 8,
   "metadata": {
    "collapsed": false,
    "jupyter": {
     "outputs_hidden": false
    }
   },
   "outputs": [
    {
     "ename": "TypeError",
     "evalue": "argument of type 'float' is not iterable",
     "output_type": "error",
     "traceback": [
      "\u001b[0;31m---------------------------------------------------------------------------\u001b[0m",
      "\u001b[0;31mTypeError\u001b[0m                                 Traceback (most recent call last)",
      "Cell \u001b[0;32mIn[8], line 1\u001b[0m\n\u001b[0;32m----> 1\u001b[0m chains \u001b[38;5;241m=\u001b[39m \u001b[43mChainList\u001b[49m\u001b[43m(\u001b[49m\n\u001b[1;32m      2\u001b[0m \u001b[43m    \u001b[49m\u001b[43mwrap_into_chain_seq\u001b[49m\u001b[43m(\u001b[49m\u001b[43mr\u001b[49m\u001b[43m)\u001b[49m\u001b[43m \u001b[49m\u001b[38;5;28;43;01mfor\u001b[39;49;00m\u001b[43m \u001b[49m\u001b[43m_\u001b[49m\u001b[43m,\u001b[49m\u001b[43m \u001b[49m\u001b[43mr\u001b[49m\u001b[43m \u001b[49m\u001b[38;5;129;43;01min\u001b[39;49;00m\u001b[43m \u001b[49m\u001b[43mdf_up\u001b[49m\u001b[38;5;241;43m.\u001b[39;49m\u001b[43miterrows\u001b[49m\u001b[43m(\u001b[49m\u001b[43m)\u001b[49m\n\u001b[1;32m      3\u001b[0m \u001b[43m)\u001b[49m\n\u001b[1;32m      4\u001b[0m Counter(c\u001b[38;5;241m.\u001b[39mmeta[\u001b[38;5;124m'\u001b[39m\u001b[38;5;124mFamily\u001b[39m\u001b[38;5;124m'\u001b[39m] \u001b[38;5;28;01mfor\u001b[39;00m c \u001b[38;5;129;01min\u001b[39;00m chains)\n",
      "File \u001b[0;32m~/Projects/lXtractor/lXtractor/core/chain/list.py:131\u001b[0m, in \u001b[0;36mChainList.__init__\u001b[0;34m(self, chains, categories)\u001b[0m\n\u001b[1;32m    124\u001b[0m \u001b[38;5;250m\u001b[39m\u001b[38;5;124;03m\"\"\"\u001b[39;00m\n\u001b[1;32m    125\u001b[0m \u001b[38;5;124;03m:param chains: An iterable over ``Chain*``-type objects.\u001b[39;00m\n\u001b[1;32m    126\u001b[0m \u001b[38;5;124;03m:param categories: An optional list of categories.\u001b[39;00m\n\u001b[1;32m    127\u001b[0m \u001b[38;5;124;03m    If provided, they will be assigned to inputs' `meta` attributes.\u001b[39;00m\n\u001b[1;32m    128\u001b[0m \u001b[38;5;124;03m\"\"\"\u001b[39;00m\n\u001b[1;32m    130\u001b[0m \u001b[38;5;28;01mif\u001b[39;00m \u001b[38;5;129;01mnot\u001b[39;00m \u001b[38;5;28misinstance\u001b[39m(chains, \u001b[38;5;28mlist\u001b[39m):\n\u001b[0;32m--> 131\u001b[0m     chains \u001b[38;5;241m=\u001b[39m \u001b[38;5;28;43mlist\u001b[39;49m\u001b[43m(\u001b[49m\u001b[43mchains\u001b[49m\u001b[43m)\u001b[49m\n\u001b[1;32m    133\u001b[0m _check_chain_types(chains)\n\u001b[1;32m    135\u001b[0m \u001b[38;5;28;01mif\u001b[39;00m categories \u001b[38;5;129;01mis\u001b[39;00m \u001b[38;5;129;01mnot\u001b[39;00m \u001b[38;5;28;01mNone\u001b[39;00m:\n",
      "Cell \u001b[0;32mIn[8], line 2\u001b[0m, in \u001b[0;36m<genexpr>\u001b[0;34m(.0)\u001b[0m\n\u001b[1;32m      1\u001b[0m chains \u001b[38;5;241m=\u001b[39m ChainList(\n\u001b[0;32m----> 2\u001b[0m     \u001b[43mwrap_into_chain_seq\u001b[49m\u001b[43m(\u001b[49m\u001b[43mr\u001b[49m\u001b[43m)\u001b[49m \u001b[38;5;28;01mfor\u001b[39;00m _, r \u001b[38;5;129;01min\u001b[39;00m df_up\u001b[38;5;241m.\u001b[39miterrows()\n\u001b[1;32m      3\u001b[0m )\n\u001b[1;32m      4\u001b[0m Counter(c\u001b[38;5;241m.\u001b[39mmeta[\u001b[38;5;124m'\u001b[39m\u001b[38;5;124mFamily\u001b[39m\u001b[38;5;124m'\u001b[39m] \u001b[38;5;28;01mfor\u001b[39;00m c \u001b[38;5;129;01min\u001b[39;00m chains)\n",
      "Cell \u001b[0;32mIn[7], line 9\u001b[0m, in \u001b[0;36mwrap_into_chain_seq\u001b[0;34m(row)\u001b[0m\n\u001b[1;32m      7\u001b[0m fam_df \u001b[38;5;241m=\u001b[39m row[\u001b[38;5;124m'\u001b[39m\u001b[38;5;124mProtein families\u001b[39m\u001b[38;5;124m'\u001b[39m]\n\u001b[1;32m      8\u001b[0m family \u001b[38;5;241m=\u001b[39m \u001b[38;5;124m'\u001b[39m\u001b[38;5;124mother\u001b[39m\u001b[38;5;124m'\u001b[39m\n\u001b[0;32m----> 9\u001b[0m \u001b[38;5;28;01mif\u001b[39;00m \u001b[38;5;124;43m'\u001b[39;49m\u001b[38;5;124;43mprotein kinase family\u001b[39;49m\u001b[38;5;124;43m'\u001b[39;49m\u001b[43m \u001b[49m\u001b[38;5;129;43;01min\u001b[39;49;00m\u001b[43m \u001b[49m\u001b[43mfam_df\u001b[49m:\n\u001b[1;32m     10\u001b[0m     \u001b[38;5;28;01mif\u001b[39;00m \u001b[38;5;124m'\u001b[39m\u001b[38;5;124mSer/Thr\u001b[39m\u001b[38;5;124m'\u001b[39m \u001b[38;5;129;01min\u001b[39;00m fam_df:\n\u001b[1;32m     11\u001b[0m         family \u001b[38;5;241m=\u001b[39m \u001b[38;5;124m'\u001b[39m\u001b[38;5;124mSTk\u001b[39m\u001b[38;5;124m'\u001b[39m\n",
      "\u001b[0;31mTypeError\u001b[0m: argument of type 'float' is not iterable"
     ]
    }
   ],
   "source": [
    "chains = ChainList(\n",
    "    wrap_into_chain_seq(r) for _, r in df_up.iterrows()\n",
    ")\n",
    "Counter(c.meta['Family'] for c in chains)"
   ]
  },
  {
   "cell_type": "markdown",
   "metadata": {},
   "source": [
    "Select only those whose family was classified as STk or Tk."
   ]
  },
  {
   "cell_type": "code",
   "execution_count": null,
   "metadata": {
    "collapsed": false,
    "jupyter": {
     "outputs_hidden": false
    }
   },
   "outputs": [],
   "source": [
    "chains = chains.filter(lambda x: x.meta['Family'] != 'other')"
   ]
  },
  {
   "cell_type": "markdown",
   "metadata": {},
   "source": [
    "Below, alignment-extracted boundaries are used to create a \"child\"\n",
    "subsequence for each `ChainSequence` in `chains`. We also specify acceptance\n",
    "criteria: minimum length of extracted domain, minimum coverage, i.e., how many\n",
    "HMM positions were covered by the extracted sequence, and minimum bit score\n",
    "(which is a bit higher than the profile's own threshold; just to be safe)."
   ]
  },
  {
   "cell_type": "code",
   "execution_count": null,
   "metadata": {
    "collapsed": false,
    "jupyter": {
     "outputs_hidden": false
    }
   },
   "outputs": [],
   "source": [
    "consume(prof.annotate(\n",
    "    chains, new_map_name='PK', min_size=150, min_cov_hmm=0.7, min_score=50\n",
    "));"
   ]
  },
  {
   "cell_type": "code",
   "execution_count": null,
   "metadata": {
    "collapsed": false,
    "jupyter": {
     "outputs_hidden": false
    }
   },
   "outputs": [],
   "source": [
    "len(chains), len(chains.collapse_children())"
   ]
  },
  {
   "cell_type": "markdown",
   "metadata": {},
   "source": [
    "We observe that the final number of chains with annotated domains under the\n",
    "filtering criteria specified above differs from the initial number of chains.\n",
    "UniProt obtains PK domain annotations using a different profile using `ProSite`\n",
    "software. Thus, the filtering criteria are essentially sensitivity tweaks."
   ]
  },
  {
   "cell_type": "code",
   "execution_count": null,
   "metadata": {
    "collapsed": false,
    "jupyter": {
     "outputs_hidden": false
    }
   },
   "outputs": [],
   "source": [
    "chains = chains.filter(lambda x: len(x.children) > 0)\n",
    "len(chains), Counter(c.meta['Family'] for c in chains)"
   ]
  },
  {
   "cell_type": "markdown",
   "metadata": {},
   "source": [
    "### 2.3 Prepare encoded dataset\n",
    "\n",
    "We encode the alignment using the [ProtFP embeddings](https://lxtractor.readthedocs.io/en/latest/lXtractor.variables.html#lXtractor.variables.base.ProtFP) derived from the PCA of the AAIndex database. Thus, they encapsulate many physicochemical properties in several compact dimensions."
   ]
  },
  {
   "cell_type": "code",
   "execution_count": null,
   "metadata": {
    "collapsed": false,
    "jupyter": {
     "outputs_hidden": false
    }
   },
   "outputs": [],
   "source": [
    "# The number of PCA components to take.\n",
    "N_COMP = 3"
   ]
  },
  {
   "cell_type": "markdown",
   "metadata": {},
   "source": [
    "Define variables -- `N_COMP` PCA components for each profile position.\n",
    "`lXtractor` is shipped with values already and the \"calculation\" of variables\n",
    "below is simply accessing the table values for each valid residue. By default,\n",
    "`NaN` used as a placeholder for empty values (gaps in the sequence-to-profile\n",
    "alignment)."
   ]
  },
  {
   "cell_type": "code",
   "execution_count": null,
   "metadata": {
    "collapsed": false,
    "jupyter": {
     "outputs_hidden": false
    }
   },
   "outputs": [],
   "source": [
    "variables = list(chain.from_iterable(\n",
    "    (PFP(pos, i) for i in range(1, N_COMP + 1)) for pos in range(1, prof.hmm.M + 1)\n",
    "))\n",
    "len(variables)"
   ]
  },
  {
   "cell_type": "code",
   "execution_count": null,
   "metadata": {
    "collapsed": false,
    "jupyter": {
     "outputs_hidden": false
    }
   },
   "outputs": [],
   "source": [
    "manager = Manager(verbose=True)\n",
    "calculator = GenericCalculator()  # You may increase the number of processes here.\n",
    "domains = chains.collapse_children()\n",
    "df = manager.aggregate_from_it(\n",
    "    # `calculate` returns a generator of the calculation results.\n",
    "    # We immediately aggregate the results into a single table.\n",
    "    manager.calculate(domains, variables, calculator, map_name='PK')\n",
    ")"
   ]
  },
  {
   "cell_type": "markdown",
   "metadata": {},
   "source": [
    "Finally, incorporate labels for STk (0) and Tk (1) domain sequences."
   ]
  },
  {
   "cell_type": "code",
   "execution_count": null,
   "metadata": {
    "collapsed": false,
    "jupyter": {
     "outputs_hidden": false
    }
   },
   "outputs": [],
   "source": [
    "cls_map = {'STk': 0, 'Tk': 1}\n",
    "id2cls = {s.id: cls_map[s.parent.meta['Family']] for s in domains}\n",
    "df['IsTk'] = df['ObjectID'].map(id2cls)"
   ]
  },
  {
   "cell_type": "code",
   "execution_count": null,
   "metadata": {
    "collapsed": false,
    "jupyter": {
     "outputs_hidden": false
    }
   },
   "outputs": [],
   "source": [
    "df.head()"
   ]
  },
  {
   "cell_type": "markdown",
   "metadata": {},
   "source": [
    "## 3. Run feature selection"
   ]
  },
  {
   "cell_type": "markdown",
   "metadata": {},
   "source": [
    "### 3.1 Setup\n",
    "\n",
    "For convenience, we'll define several helper functions and a `Dataset` dataclass\n",
    "holding the full dataset."
   ]
  },
  {
   "cell_type": "code",
   "execution_count": null,
   "metadata": {},
   "outputs": [],
   "source": [
    "from dataclasses import dataclass\n",
    "\n",
    "import numpy as np\n",
    "from eBoruta import eBoruta\n",
    "from sklearn.metrics import f1_score\n",
    "from sklearn.model_selection import StratifiedShuffleSplit\n",
    "from xgboost import XGBClassifier"
   ]
  },
  {
   "cell_type": "code",
   "execution_count": null,
   "metadata": {
    "collapsed": false,
    "jupyter": {
     "outputs_hidden": false
    }
   },
   "outputs": [],
   "source": [
    "@dataclass\n",
    "class Dataset:\n",
    "    df: pd.DataFrame\n",
    "    x_names: list[str]\n",
    "    y_name: str\n",
    "\n",
    "    @property\n",
    "    def x(self) -> pd.DataFrame:\n",
    "        return self.df[self.x_names]\n",
    "\n",
    "    @property\n",
    "    def y(self) -> pd.Series:\n",
    "        return self.df[self.y_name]\n",
    "\n",
    "\n",
    "def sel_by_idx(ds, idx):\n",
    "    \"\"\"\n",
    "    :param ds: Dataset.\n",
    "    :param idx: Array of numeric indices.\n",
    "    :return: New `Dataset` instance with the same variables\n",
    "        and rows selected by `idx`.\n",
    "    \"\"\"\n",
    "    return Dataset(ds.df.iloc[idx], ds.x_names, ds.y_name)\n",
    "\n",
    "\n",
    "def score(ds, model, score_fn=f1_score):\n",
    "    \"\"\"\n",
    "    F1-score for the classifier model.\n",
    "    \"\"\"\n",
    "    return score_fn(ds.y.values, model.predict(ds.x))\n",
    "\n",
    "\n",
    "def cv(ds, model, n=10, score_fn=f1_score, agg_fn=np.mean):\n",
    "    \"\"\"\n",
    "    Cross validate the model returning the aggregated score.\n",
    "    \"\"\"\n",
    "    scores = []\n",
    "    splitter = StratifiedShuffleSplit(n_splits=n)\n",
    "    for train_idx, test_idx in splitter.split(ds.x, ds.y):\n",
    "        ds_train = sel_by_idx(ds, train_idx)\n",
    "        ds_test = sel_by_idx(ds, test_idx)\n",
    "        _model = model.__class__(**model.get_params())\n",
    "        _model.fit(ds_train.x, ds_train.y)\n",
    "        scores.append(score(ds_test, _model, score_fn))\n",
    "    return agg_fn(scores)\n",
    "\n",
    "# def plot_imp_history(df_history: pd.DataFrame):\n",
    "#     sns.lineplot(x='Step', y='Importance', hue='Feature', data=df_history)\n",
    "#     sns.lineplot(x='Step', y='Threshold', data=df_history, linestyle='--', linewidth=4)"
   ]
  },
  {
   "cell_type": "code",
   "execution_count": null,
   "metadata": {
    "collapsed": false,
    "jupyter": {
     "outputs_hidden": false
    }
   },
   "outputs": [],
   "source": [
    "# How many top features to review?\n",
    "TOP_N = 10"
   ]
  },
  {
   "cell_type": "code",
   "execution_count": null,
   "metadata": {
    "collapsed": false,
    "jupyter": {
     "outputs_hidden": false
    }
   },
   "outputs": [],
   "source": [
    "dataset = Dataset(df, [c for c in df.columns if 'PFP' in c], 'IsTk')\n",
    "classifier = XGBClassifier(n_jobs=-1)"
   ]
  },
  {
   "cell_type": "markdown",
   "metadata": {},
   "source": [
    "### 3.2 Cross-validate the initial model\n",
    "\n",
    "Before attempting anything, let's just first cross-validate the model on the\n",
    "full dataset. We should obtain a decent result by itself. It's good practice\n",
    "to test whether subsequent feature selection deteriorates this baseline result."
   ]
  },
  {
   "cell_type": "code",
   "execution_count": null,
   "metadata": {
    "collapsed": false,
    "jupyter": {
     "outputs_hidden": false
    }
   },
   "outputs": [],
   "source": [
    "cv(dataset, classifier)"
   ]
  },
  {
   "cell_type": "markdown",
   "metadata": {},
   "source": [
    "### 3.3 Select Features\n",
    "\n",
    "Run the feature selection itself. We'll keep the default parameters and a large\n",
    "number of iterations to obtain final decisions for each feature. Then we'll rank\n",
    "features and select top N features to analyze further."
   ]
  },
  {
   "cell_type": "code",
   "execution_count": null,
   "metadata": {
    "collapsed": false,
    "jupyter": {
     "outputs_hidden": false
    }
   },
   "outputs": [],
   "source": [
    "boruta = eBoruta(n_iter=100, shap_approximate=False, shap_tree=True)\n",
    "boruta.fit(dataset.x, dataset.y, model=classifier, verbose=0)"
   ]
  },
  {
   "cell_type": "markdown",
   "metadata": {},
   "source": [
    "Next, we'll rank the accepted features. Ranking means refitting the model using\n",
    "supplied (here, accepted) features, calculating and sorting by feature importance\n",
    "values."
   ]
  },
  {
   "cell_type": "code",
   "execution_count": null,
   "metadata": {
    "collapsed": false,
    "jupyter": {
     "outputs_hidden": false
    }
   },
   "outputs": [],
   "source": [
    "ranks = boruta.rank(features=boruta.features_.accepted, fit=True)\n",
    "ranks.head(TOP_N)"
   ]
  },
  {
   "cell_type": "code",
   "execution_count": null,
   "metadata": {
    "collapsed": false,
    "jupyter": {
     "outputs_hidden": false
    }
   },
   "outputs": [],
   "source": [
    "top_n_features = ranks.Feature[:TOP_N].tolist()"
   ]
  },
  {
   "cell_type": "code",
   "execution_count": null,
   "metadata": {
    "collapsed": false,
    "jupyter": {
     "outputs_hidden": false
    }
   },
   "outputs": [],
   "source": [
    "ds_sel = Dataset(\n",
    "    df[['ObjectID', *top_n_features, dataset.y_name]], top_n_features, dataset.y_name\n",
    ")"
   ]
  },
  {
   "cell_type": "markdown",
   "metadata": {},
   "source": [
    "### 3.4 CV score using selected features"
   ]
  },
  {
   "cell_type": "markdown",
   "metadata": {},
   "source": [
    "Finally, we'll use the dataset with accepted features to cross-validate the model.\n",
    "Indeed, the CV score is very similar to the previously obtained on a full dataset."
   ]
  },
  {
   "cell_type": "code",
   "execution_count": null,
   "metadata": {
    "collapsed": false,
    "jupyter": {
     "outputs_hidden": false
    }
   },
   "outputs": [],
   "source": [
    "cv(ds_sel, classifier)"
   ]
  },
  {
   "cell_type": "markdown",
   "metadata": {},
   "source": [
    "## 4. Interpret the results\n",
    "\n",
    "Here, we'll check correspondence between MSA positions of Juswinder and those\n",
    "produced by feature selection. We'll do this based on  conservation patterns'\n",
    "similarity at selected positions and those depicted in Figures 2 and 3.\n",
    "\n",
    "Note that we conclude based on a quick visual inspection rather than building\n",
    "a full MSA and relating different positions. Still, one may verify externally\n",
    "that positions from the paper -- 168, 170, 201, 203 -- correspond to HMM profile\n",
    "positions 125, 127, 160, and 162."
   ]
  },
  {
   "cell_type": "code",
   "execution_count": null,
   "metadata": {
    "collapsed": false,
    "jupyter": {
     "outputs_hidden": false
    }
   },
   "outputs": [],
   "source": [
    "POS_PATTERN = re.compile('p=(\\d+)')"
   ]
  },
  {
   "cell_type": "code",
   "execution_count": null,
   "metadata": {
    "collapsed": false,
    "jupyter": {
     "outputs_hidden": false
    }
   },
   "outputs": [],
   "source": [
    "ds_sample = ds_sel.df.groupby('IsTk').sample(30)\n",
    "positions = sorted(\n",
    "    {int(POS_PATTERN.findall(c)[0]) for c in ds_sample.columns if 'p=' in c}\n",
    ")\n",
    "positions"
   ]
  },
  {
   "cell_type": "code",
   "execution_count": null,
   "metadata": {
    "collapsed": false,
    "jupyter": {
     "outputs_hidden": false
    }
   },
   "outputs": [],
   "source": [
    "def extract_positions(c: ChainSequence) -> str:\n",
    "    m = c.get_map('PK')\n",
    "    mapped = map(\n",
    "        lambda x: x if x == '-' else x.seq1,\n",
    "        (m.get(p, '-') for p in positions))\n",
    "    return \"\".join(mapped)"
   ]
  },
  {
   "cell_type": "code",
   "execution_count": null,
   "metadata": {
    "collapsed": false,
    "jupyter": {
     "outputs_hidden": false
    }
   },
   "outputs": [],
   "source": [
    "sample_chains = [domains[x].pop() for x in ds_sample['ObjectID']]"
   ]
  },
  {
   "cell_type": "code",
   "execution_count": null,
   "metadata": {
    "collapsed": false,
    "jupyter": {
     "outputs_hidden": false
    }
   },
   "outputs": [],
   "source": [
    "positions"
   ]
  },
  {
   "cell_type": "code",
   "execution_count": null,
   "metadata": {
    "collapsed": false,
    "jupyter": {
     "outputs_hidden": false
    }
   },
   "outputs": [],
   "source": [
    "seqs = map(extract_positions, sample_chains)\n",
    "\n",
    "for is_tk, seq in zip(ds_sample.IsTk, seqs):\n",
    "    print(seq, is_tk)"
   ]
  },
  {
   "cell_type": "markdown",
   "metadata": {},
   "source": [
    "One may notice from above the following correspondence between Figures 2 and 3\n",
    "and conservation patterns observed above. Firstly, position 125 clearly\n",
    "corresponds to position 168 on Fig. 3, with conserved K in STk and A/R in Tk.\n",
    "Furthermore, position 127 corresponds to 170 on Fig. 3, with conserved R in Tk.\n",
    "Moving on, position 162 corresponds to 203 in Fig. 2, with conserved K and R in\n",
    "Tk.\n",
    "\n",
    "Thus, feature selection managed to retrieve features whose conservation patterns\n",
    "differed between STk and Tk. Moreover, selected feature pertain to positions\n",
    "implicated as critical for the STk/Tk functional differences by a research\n",
    "paper; thus, clearly relevant."
   ]
  }
 ],
 "metadata": {
  "kernelspec": {
   "display_name": "Python 3 (ipykernel)",
   "language": "python",
   "name": "python3"
  },
  "language_info": {
   "codemirror_mode": {
    "name": "ipython",
    "version": 3
   },
   "file_extension": ".py",
   "mimetype": "text/x-python",
   "name": "python",
   "nbconvert_exporter": "python",
   "pygments_lexer": "ipython3",
   "version": "3.10.8"
  }
 },
 "nbformat": 4,
 "nbformat_minor": 4
}
